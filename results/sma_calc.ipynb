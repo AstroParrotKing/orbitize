{
 "cells": [
  {
   "cell_type": "code",
   "execution_count": 1,
   "metadata": {},
   "outputs": [],
   "source": [
    "from orbitize import system"
   ]
  },
  {
   "cell_type": "code",
   "execution_count": 3,
   "metadata": {},
   "outputs": [
    {
     "name": "stdout",
     "output_type": "stream",
     "text": [
      "15 6.951529748791785\n",
      "25 4.945169923888198\n",
      "35 3.95150493611945\n",
      "45 3.3419469310580396\n",
      "55 2.923475321016234\n",
      "65 2.615365078742331\n",
      "75 2.377389732608291\n",
      "85 2.187066262313544\n"
     ]
    }
   ],
   "source": [
    "mtot = 1.2\n",
    "plx = 60\n",
    "for i in range(15, 95, 10):\n",
    "    data_table, sma = system.generate_synthetic_data(i, mtot, plx, num_obs=30)\n",
    "    print(i, sma)"
   ]
  }
 ],
 "metadata": {
  "kernelspec": {
   "display_name": "thiele",
   "language": "python",
   "name": "python3"
  },
  "language_info": {
   "codemirror_mode": {
    "name": "ipython",
    "version": 3
   },
   "file_extension": ".py",
   "mimetype": "text/x-python",
   "name": "python",
   "nbconvert_exporter": "python",
   "pygments_lexer": "ipython3",
   "version": "3.10.4"
  },
  "orig_nbformat": 4
 },
 "nbformat": 4,
 "nbformat_minor": 2
}
