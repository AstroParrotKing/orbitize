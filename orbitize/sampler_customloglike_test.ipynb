{
 "cells": [
  {
   "cell_type": "code",
   "execution_count": 1,
   "metadata": {},
   "outputs": [],
   "source": [
    "from orbitize import sampler,system,lnlike,read_input\n",
    "import numpy as np\n",
    "import read_input\n",
    "import pandas as pd\n",
    "import custom_hd159062_lnlike as custom_like"
   ]
  },
  {
   "cell_type": "code",
   "execution_count": 20,
   "metadata": {
    "scrolled": true
   },
   "outputs": [
    {
     "name": "stdout",
     "output_type": "stream",
     "text": [
      "Converting input epochs from JD to MJD.\n",
      "\n",
      "Converting input epochs from JD to MJD.\n",
      "\n",
      "Converting input epochs from JD to MJD.\n",
      "\n",
      "Converting input epochs from JD to MJD.\n",
      "\n",
      "Converting input epochs from JD to MJD.\n",
      "\n",
      "Converting input epochs from JD to MJD.\n",
      "\n",
      "Converting input epochs from JD to MJD.\n",
      "\n",
      "Converting input epochs from JD to MJD.\n",
      "\n",
      "Converting input epochs from JD to MJD.\n",
      "\n",
      "Converting input epochs from JD to MJD.\n",
      "\n",
      "Converting input epochs from JD to MJD.\n",
      "\n",
      "Converting input epochs from JD to MJD.\n",
      "\n",
      "Converting input epochs from JD to MJD.\n",
      "\n",
      "Converting input epochs from JD to MJD.\n",
      "\n",
      "Converting input epochs from JD to MJD.\n",
      "\n",
      "Converting input epochs from JD to MJD.\n",
      "\n",
      "Converting input epochs from JD to MJD.\n",
      "\n",
      "Converting input epochs from JD to MJD.\n",
      "\n",
      "Converting input epochs from JD to MJD.\n",
      "\n",
      "Converting input epochs from JD to MJD.\n",
      "\n",
      "Converting input epochs from JD to MJD.\n",
      "\n",
      "Converting input epochs from JD to MJD.\n",
      "\n",
      "Converting input epochs from JD to MJD.\n",
      "\n",
      "Converting input epochs from JD to MJD.\n",
      "\n",
      "Converting input epochs from JD to MJD.\n",
      "\n",
      "Converting input epochs from JD to MJD.\n",
      "\n",
      "Converting input epochs from JD to MJD.\n",
      "\n",
      "Converting input epochs from JD to MJD.\n",
      "\n",
      "Converting input epochs from JD to MJD.\n",
      "\n",
      "Converting input epochs from JD to MJD.\n",
      "\n",
      "Converting input epochs from JD to MJD.\n",
      "\n",
      "Converting input epochs from JD to MJD.\n",
      "\n",
      "Converting input epochs from JD to MJD.\n",
      "\n",
      "Converting input epochs from JD to MJD.\n",
      "\n",
      "Converting input epochs from JD to MJD.\n",
      "\n",
      "Converting input epochs from JD to MJD.\n",
      "\n",
      "Converting input epochs from JD to MJD.\n",
      "\n",
      "Converting input epochs from JD to MJD.\n",
      "\n",
      "Converting input epochs from JD to MJD.\n",
      "\n",
      "Converting input epochs from JD to MJD.\n",
      "\n",
      "Converting input epochs from JD to MJD.\n",
      "\n",
      "Converting input epochs from JD to MJD.\n",
      "\n",
      "Converting input epochs from JD to MJD.\n",
      "\n",
      "Converting input epochs from JD to MJD.\n",
      "\n",
      "Converting input epochs from JD to MJD.\n",
      "\n",
      "Converting input epochs from JD to MJD.\n",
      "\n",
      "Converting input epochs from JD to MJD.\n",
      "\n",
      "Converting input epochs from JD to MJD.\n",
      "\n"
     ]
    }
   ],
   "source": [
    "data1 = read_input.read_file('/Users/rtejada/Desktop/notebooks/HD159062/hd159062_mcmc.csv')\n",
    "data2 = read_input.read_file('../tests/testdata0.csv')"
   ]
  },
  {
   "cell_type": "code",
   "execution_count": 21,
   "metadata": {},
   "outputs": [
    {
     "data": {
      "text/html": [
       "<div>\n",
       "<style scoped>\n",
       "    .dataframe tbody tr th:only-of-type {\n",
       "        vertical-align: middle;\n",
       "    }\n",
       "\n",
       "    .dataframe tbody tr th {\n",
       "        vertical-align: top;\n",
       "    }\n",
       "\n",
       "    .dataframe thead th {\n",
       "        text-align: right;\n",
       "    }\n",
       "</style>\n",
       "<table border=\"1\" class=\"dataframe\">\n",
       "  <thead>\n",
       "    <tr style=\"text-align: right;\">\n",
       "      <th></th>\n",
       "      <th>m0</th>\n",
       "      <th>m1</th>\n",
       "      <th>P</th>\n",
       "      <th>ecc</th>\n",
       "      <th>argp</th>\n",
       "      <th>lan</th>\n",
       "      <th>inc</th>\n",
       "      <th>tperi</th>\n",
       "      <th>plx</th>\n",
       "      <th>gamma</th>\n",
       "      <th>sigma</th>\n",
       "    </tr>\n",
       "  </thead>\n",
       "  <tbody>\n",
       "    <tr>\n",
       "      <th>0</th>\n",
       "      <td>2.732812</td>\n",
       "      <td>0.296382</td>\n",
       "      <td>5723.547292</td>\n",
       "      <td>0.181849</td>\n",
       "      <td>4.878873</td>\n",
       "      <td>1.049311</td>\n",
       "      <td>0.702022</td>\n",
       "      <td>500.0</td>\n",
       "      <td>60.804643</td>\n",
       "      <td>66.415148</td>\n",
       "      <td>16.497966</td>\n",
       "    </tr>\n",
       "    <tr>\n",
       "      <th>1</th>\n",
       "      <td>1.910946</td>\n",
       "      <td>0.250833</td>\n",
       "      <td>6863.710697</td>\n",
       "      <td>0.809880</td>\n",
       "      <td>4.617912</td>\n",
       "      <td>0.423327</td>\n",
       "      <td>0.215450</td>\n",
       "      <td>500.0</td>\n",
       "      <td>46.896846</td>\n",
       "      <td>14.391493</td>\n",
       "      <td>12.378026</td>\n",
       "    </tr>\n",
       "    <tr>\n",
       "      <th>2</th>\n",
       "      <td>1.968237</td>\n",
       "      <td>0.089138</td>\n",
       "      <td>673.974271</td>\n",
       "      <td>0.131954</td>\n",
       "      <td>1.815709</td>\n",
       "      <td>1.398987</td>\n",
       "      <td>0.583262</td>\n",
       "      <td>500.0</td>\n",
       "      <td>80.677309</td>\n",
       "      <td>77.534799</td>\n",
       "      <td>17.544266</td>\n",
       "    </tr>\n",
       "    <tr>\n",
       "      <th>3</th>\n",
       "      <td>1.474015</td>\n",
       "      <td>0.016697</td>\n",
       "      <td>1098.835142</td>\n",
       "      <td>0.493135</td>\n",
       "      <td>0.054974</td>\n",
       "      <td>4.474184</td>\n",
       "      <td>1.329829</td>\n",
       "      <td>500.0</td>\n",
       "      <td>92.194087</td>\n",
       "      <td>26.168264</td>\n",
       "      <td>4.383070</td>\n",
       "    </tr>\n",
       "    <tr>\n",
       "      <th>4</th>\n",
       "      <td>2.775147</td>\n",
       "      <td>0.103769</td>\n",
       "      <td>2464.492220</td>\n",
       "      <td>0.232713</td>\n",
       "      <td>3.325733</td>\n",
       "      <td>0.345529</td>\n",
       "      <td>0.649586</td>\n",
       "      <td>500.0</td>\n",
       "      <td>93.300829</td>\n",
       "      <td>29.514289</td>\n",
       "      <td>17.693520</td>\n",
       "    </tr>\n",
       "  </tbody>\n",
       "</table>\n",
       "</div>"
      ],
      "text/plain": [
       "         m0        m1            P       ecc      argp       lan       inc  \\\n",
       "0  2.732812  0.296382  5723.547292  0.181849  4.878873  1.049311  0.702022   \n",
       "1  1.910946  0.250833  6863.710697  0.809880  4.617912  0.423327  0.215450   \n",
       "2  1.968237  0.089138   673.974271  0.131954  1.815709  1.398987  0.583262   \n",
       "3  1.474015  0.016697  1098.835142  0.493135  0.054974  4.474184  1.329829   \n",
       "4  2.775147  0.103769  2464.492220  0.232713  3.325733  0.345529  0.649586   \n",
       "\n",
       "   tperi        plx      gamma      sigma  \n",
       "0  500.0  60.804643  66.415148  16.497966  \n",
       "1  500.0  46.896846  14.391493  12.378026  \n",
       "2  500.0  80.677309  77.534799  17.544266  \n",
       "3  500.0  92.194087  26.168264   4.383070  \n",
       "4  500.0  93.300829  29.514289  17.693520  "
      ]
     },
     "execution_count": 21,
     "metadata": {},
     "output_type": "execute_result"
    }
   ],
   "source": [
    "params_list = pd.read_csv('/Users/rtejada/Desktop/orbitize_mcmc/test_params.csv',\n",
    "                          header=None,names=['m0','m1','P','ecc','argp','lan','inc','tperi','plx','gamma','sigma'])\n",
    "params_list"
   ]
  },
  {
   "cell_type": "code",
   "execution_count": 38,
   "metadata": {},
   "outputs": [],
   "source": [
    "output = system.System(1, data1, 0.8, 46.123, mass_err=0.05, plx_err=0.024, fit_secondary_mass=True,\n",
    "                       tau_ref_epoch=0, gamma_bounds=(-2000, 2000), jitter_bounds=(1e-3, 50))\n",
    "\n",
    "mysampler_1 = sampler.MCMC(output, like=lnlike.chi2_lnlike,custom_lnlike=custom_like.custom_chi2_loglike)\n",
    "mysampler_2 = sampler.MCMC(output, like=lnlike.chi2_lnlike, custom_lnlike=None)"
   ]
  },
  {
   "cell_type": "code",
   "execution_count": 43,
   "metadata": {},
   "outputs": [
    {
     "name": "stdout",
     "output_type": "stream",
     "text": [
      "[4.34684318e+01 4.40000000e-01 9.25024504e-01 2.68780705e+00\n",
      " 5.55014702e+00 0.00000000e+00 4.61200000e+01 9.34000000e+02\n",
      " 2.30000000e+00 6.50000000e-01 8.00000000e-01]\n"
     ]
    }
   ],
   "source": [
    "def p2sma(P,m0,m1):\n",
    "    return ((P/365.25)**2*(m0+m1))**(1/3)\n",
    "\n",
    "def tau0(Tp,ref_epoch,P):\n",
    "    return (Tp - ref_epoch)/P\n",
    "\n",
    "sma = p2sma(238*365.25,0.80,0.65)\n",
    "ecc = 0.44\n",
    "inc = 53.0*np.pi/180\n",
    "argp = (-26+180.0)*np.pi/180\n",
    "lan = (138.0+180.0)*np.pi/180\n",
    "tau = 0.0\n",
    "plx = 46.12\n",
    "gamma = 934\n",
    "sigma = 2.3\n",
    "m1 = 0.65\n",
    "m0 = 0.80\n",
    "\n",
    "wd_params = np.array([sma,ecc,inc,argp,lan,tau,\n",
    "                      plx,gamma,sigma,\n",
    "                      m1,m0])\n",
    "print(wd_params)"
   ]
  },
  {
   "cell_type": "code",
   "execution_count": 44,
   "metadata": {},
   "outputs": [
    {
     "name": "stdout",
     "output_type": "stream",
     "text": [
      "Sampler with custom lnlike: -555121.3484855834\n",
      "Sampler without custom lnlike: -555096.254098818\n",
      "Custom Likelihood: -25.094386765382527\n"
     ]
    }
   ],
   "source": [
    "print('Sampler with custom lnlike:',mysampler_1._logl(wd_params))\n",
    "print('Sampler without custom lnlike:',mysampler_2._logl(wd_params))\n",
    "print('Custom Likelihood:',custom_like.custom_chi2_loglike(wd_params))"
   ]
  },
  {
   "cell_type": "code",
   "execution_count": 26,
   "metadata": {},
   "outputs": [
    {
     "name": "stdout",
     "output_type": "stream",
     "text": [
      "[9.06064391e+00 1.81849406e-01 5.00000000e+02 4.87887296e+00\n",
      " 1.04931144e+00 8.73584116e-02 6.08046431e+01 6.64151484e+01\n",
      " 1.64979657e+01 2.96381515e-01 2.73281248e+00]\n"
     ]
    }
   ],
   "source": [
    "sma = p2sma(params_list.loc[0][2],params_list.loc[0][0],params_list.loc[0][1])\n",
    "ecc = params_list.loc[0][3]\n",
    "inc = params_list.loc[0][7]\n",
    "argp = params_list.loc[0][4]\n",
    "lan = params_list.loc[0][5]\n",
    "tau = params_list.loc[0][7]/params_list.loc[0][2]\n",
    "plx = params_list.loc[0][8]\n",
    "gamma = params_list.loc[0][-2]\n",
    "sigma = params_list.loc[0][-1]\n",
    "m1 = params_list.loc[0][1]\n",
    "m0 = params_list.loc[0][0]\n",
    "\n",
    "test_params = np.array([sma,ecc,inc,argp,lan,tau,\n",
    "                      plx,gamma,sigma,\n",
    "                      m1,m0])\n",
    "print(test_params)"
   ]
  },
  {
   "cell_type": "code",
   "execution_count": 29,
   "metadata": {},
   "outputs": [],
   "source": [
    "output = system.System(1, data2, m0, plx, mass_err=0.05, plx_err=0.1, fit_secondary_mass=True,\n",
    "                       tau_ref_epoch=0, gamma_bounds=(-2000, 2000), jitter_bounds=(1e-3, 50))\n",
    "\n",
    "mysampler_1 = sampler.MCMC(output, like=lnlike.chi2_lnlike,custom_lnlike=custom_like.custom_chi2_loglike)\n",
    "mysampler_2 = sampler.MCMC(output, like=lnlike.chi2_lnlike, custom_lnlike=None)"
   ]
  },
  {
   "cell_type": "code",
   "execution_count": 30,
   "metadata": {},
   "outputs": [
    {
     "name": "stdout",
     "output_type": "stream",
     "text": [
      "Sampler with custom lnlike: -8023850.638693593\n",
      "Sampler without custom lnlike: -8023825.544306828\n"
     ]
    }
   ],
   "source": [
    "print('Sampler with custom lnlike:',mysampler_1._logl(wd_params))\n",
    "print('Sampler without custom lnlike:',mysampler_2._logl(wd_params))"
   ]
  },
  {
   "cell_type": "code",
   "execution_count": 32,
   "metadata": {},
   "outputs": [
    {
     "name": "stdout",
     "output_type": "stream",
     "text": [
      "Custom Likelihood: -24.536503325248997\n"
     ]
    }
   ],
   "source": [
    "sma = p2sma(238*365.25,0.80,0.65)\n",
    "ecc = 0.44\n",
    "inc = 53.0*np.pi/180\n",
    "argp = (-26+180)*np.pi/180\n",
    "lan = 138.0*np.pi/180\n",
    "tau = 0.0\n",
    "plx = 46.12\n",
    "m1 = 0.65\n",
    "m0 = 0.80\n",
    "\n",
    "wd_params = [sma,ecc,inc,argp,lan,tau,plx,m1,m0]\n",
    "\n",
    "print('Custom Likelihood:',custom_like.custom_chi2_loglike(wd_params))"
   ]
  },
  {
   "cell_type": "code",
   "execution_count": null,
   "metadata": {},
   "outputs": [],
   "source": []
  }
 ],
 "metadata": {
  "kernelspec": {
   "display_name": "Python 3",
   "language": "python",
   "name": "python3"
  },
  "language_info": {
   "codemirror_mode": {
    "name": "ipython",
    "version": 3
   },
   "file_extension": ".py",
   "mimetype": "text/x-python",
   "name": "python",
   "nbconvert_exporter": "python",
   "pygments_lexer": "ipython3",
   "version": "3.7.3"
  }
 },
 "nbformat": 4,
 "nbformat_minor": 2
}
