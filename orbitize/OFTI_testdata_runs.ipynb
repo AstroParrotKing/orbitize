{
 "cells": [
  {
   "cell_type": "code",
   "execution_count": 11,
   "metadata": {},
   "outputs": [],
   "source": [
    "import numpy as np\n",
    "import sampler\n",
    "import driver\n",
    "import kepler\n",
    "import system\n",
    "import results\n",
    "import multiprocessing as mp\n",
    "import matplotlib.pyplot as plt\n",
    "import pandas as pd\n",
    "import pickle\n",
    "from matplotlib.backends.backend_pdf import PdfPages\n",
    "import corner"
   ]
  },
  {
   "cell_type": "code",
   "execution_count": 12,
   "metadata": {},
   "outputs": [],
   "source": [
    "import orbitize.driver"
   ]
  },
  {
   "cell_type": "code",
   "execution_count": 13,
   "metadata": {},
   "outputs": [
    {
     "data": {
      "text/html": [
       "<div>\n",
       "<style scoped>\n",
       "    .dataframe tbody tr th:only-of-type {\n",
       "        vertical-align: middle;\n",
       "    }\n",
       "\n",
       "    .dataframe tbody tr th {\n",
       "        vertical-align: top;\n",
       "    }\n",
       "\n",
       "    .dataframe thead th {\n",
       "        text-align: right;\n",
       "    }\n",
       "</style>\n",
       "<table border=\"1\" class=\"dataframe\">\n",
       "  <thead>\n",
       "    <tr style=\"text-align: right;\">\n",
       "      <th></th>\n",
       "      <th>m0</th>\n",
       "      <th>m1</th>\n",
       "      <th>P</th>\n",
       "      <th>ecc</th>\n",
       "      <th>argp</th>\n",
       "      <th>lan</th>\n",
       "      <th>inc</th>\n",
       "      <th>tperi</th>\n",
       "      <th>plx</th>\n",
       "      <th>gamma</th>\n",
       "      <th>sigma</th>\n",
       "    </tr>\n",
       "  </thead>\n",
       "  <tbody>\n",
       "    <tr>\n",
       "      <th>0</th>\n",
       "      <td>2.957210</td>\n",
       "      <td>0.173355</td>\n",
       "      <td>1300.836809</td>\n",
       "      <td>0.908483</td>\n",
       "      <td>3.663969</td>\n",
       "      <td>4.209460</td>\n",
       "      <td>1.136567</td>\n",
       "      <td>500.0</td>\n",
       "      <td>59.527259</td>\n",
       "      <td>38.166921</td>\n",
       "      <td>2.598862</td>\n",
       "    </tr>\n",
       "    <tr>\n",
       "      <th>1</th>\n",
       "      <td>1.755863</td>\n",
       "      <td>0.292581</td>\n",
       "      <td>476.632876</td>\n",
       "      <td>0.277872</td>\n",
       "      <td>4.872220</td>\n",
       "      <td>4.531665</td>\n",
       "      <td>0.402931</td>\n",
       "      <td>500.0</td>\n",
       "      <td>42.100585</td>\n",
       "      <td>92.754795</td>\n",
       "      <td>9.741595</td>\n",
       "    </tr>\n",
       "    <tr>\n",
       "      <th>2</th>\n",
       "      <td>1.187164</td>\n",
       "      <td>0.270437</td>\n",
       "      <td>5937.814148</td>\n",
       "      <td>0.075447</td>\n",
       "      <td>0.375376</td>\n",
       "      <td>2.096320</td>\n",
       "      <td>0.978402</td>\n",
       "      <td>500.0</td>\n",
       "      <td>84.312412</td>\n",
       "      <td>61.464186</td>\n",
       "      <td>5.783697</td>\n",
       "    </tr>\n",
       "    <tr>\n",
       "      <th>3</th>\n",
       "      <td>1.723807</td>\n",
       "      <td>0.017262</td>\n",
       "      <td>7637.525165</td>\n",
       "      <td>0.395176</td>\n",
       "      <td>0.198487</td>\n",
       "      <td>6.257569</td>\n",
       "      <td>1.322700</td>\n",
       "      <td>500.0</td>\n",
       "      <td>53.574022</td>\n",
       "      <td>82.844549</td>\n",
       "      <td>10.795037</td>\n",
       "    </tr>\n",
       "    <tr>\n",
       "      <th>4</th>\n",
       "      <td>1.186698</td>\n",
       "      <td>0.231692</td>\n",
       "      <td>7930.777123</td>\n",
       "      <td>0.824898</td>\n",
       "      <td>5.767063</td>\n",
       "      <td>2.675466</td>\n",
       "      <td>0.904030</td>\n",
       "      <td>500.0</td>\n",
       "      <td>85.181627</td>\n",
       "      <td>96.613677</td>\n",
       "      <td>10.409652</td>\n",
       "    </tr>\n",
       "  </tbody>\n",
       "</table>\n",
       "</div>"
      ],
      "text/plain": [
       "         m0        m1            P       ecc      argp       lan       inc  \\\n",
       "0  2.957210  0.173355  1300.836809  0.908483  3.663969  4.209460  1.136567   \n",
       "1  1.755863  0.292581   476.632876  0.277872  4.872220  4.531665  0.402931   \n",
       "2  1.187164  0.270437  5937.814148  0.075447  0.375376  2.096320  0.978402   \n",
       "3  1.723807  0.017262  7637.525165  0.395176  0.198487  6.257569  1.322700   \n",
       "4  1.186698  0.231692  7930.777123  0.824898  5.767063  2.675466  0.904030   \n",
       "\n",
       "   tperi        plx      gamma      sigma  \n",
       "0  500.0  59.527259  38.166921   2.598862  \n",
       "1  500.0  42.100585  92.754795   9.741595  \n",
       "2  500.0  84.312412  61.464186   5.783697  \n",
       "3  500.0  53.574022  82.844549  10.795037  \n",
       "4  500.0  85.181627  96.613677  10.409652  "
      ]
     },
     "execution_count": 13,
     "metadata": {},
     "output_type": "execute_result"
    }
   ],
   "source": [
    "params_list = pd.read_csv('/Users/rtejada/Desktop/orbitize_ofti/test_params_ofti2.csv',\n",
    "                          header=None,names=['m0','m1','P','ecc','argp','lan','inc','tperi','plx','gamma','sigma'])\n",
    "params_list"
   ]
  },
  {
   "cell_type": "code",
   "execution_count": 14,
   "metadata": {},
   "outputs": [
    {
     "name": "stdout",
     "output_type": "stream",
     "text": [
      "Mtot = 3.1305651249013753\n"
     ]
    }
   ],
   "source": [
    "print('Mtot =',params_list.values[0][0]+params_list.values[0][1])"
   ]
  },
  {
   "cell_type": "code",
   "execution_count": 15,
   "metadata": {},
   "outputs": [],
   "source": [
    "def tau0(Tp,ref_epoch,P):\n",
    "    return (Tp - ref_epoch)/P\n",
    "\n",
    "def p2sma(P,m0,m1):\n",
    "    return ((P/365.25)**2*(m0+m1))**(1/3)"
   ]
  },
  {
   "cell_type": "code",
   "execution_count": 16,
   "metadata": {},
   "outputs": [
    {
     "name": "stdout",
     "output_type": "stream",
     "text": [
      "0.38436796735042206\n",
      "3.4116356404451142\n"
     ]
    }
   ],
   "source": [
    "tau0 = tau0(params_list.values[0][7],0.0,params_list.values[0][2])\n",
    "sma0 = p2sma(params_list.values[0][2],params_list.values[0][0],params_list.values[0][1])\n",
    "\n",
    "print(tau0)\n",
    "print(sma0)"
   ]
  },
  {
   "cell_type": "code",
   "execution_count": 17,
   "metadata": {},
   "outputs": [],
   "source": [
    "ofti_test_data = '/Users/rtejada/orbitize/tests/ofti2_testdata0.csv'\n",
    "orbitize_test_data = '../tests/GJ504.csv'"
   ]
  },
  {
   "cell_type": "code",
   "execution_count": 18,
   "metadata": {},
   "outputs": [
    {
     "name": "stdout",
     "output_type": "stream",
     "text": [
      "Converting ra/dec data points in data_table to sep/pa. Original data are stored in input_table.\n"
     ]
    }
   ],
   "source": [
    "myDriver = driver.Driver(ofti_test_data, # path to data file\n",
    "                                  sampler_str='OFTI', # name of algorithm for orbit-fitting\n",
    "                                  num_secondary_bodies=1, # number of secondary bodies in system\n",
    "                                  system_mass=3.4, # total system mass [M_sun]\n",
    "                                  plx=59, # total parallax of system [mas]\n",
    "                                  mass_err=0.08, # mass error [M_sun]\n",
    "                                  plx_err=1.0, # parallax error [mas]\n",
    "                                  system_kwargs = {'fit_secondary_mass':True,\n",
    "                                  'tau_ref_epoch':0, 'gamma_bounds':(33,41), 'jitter_bounds':(1e-3, 50)})"
   ]
  },
  {
   "cell_type": "code",
   "execution_count": 19,
   "metadata": {},
   "outputs": [],
   "source": [
    "myDriver_orb = driver.Driver(orbitize_test_data, # path to data file\n",
    "                                  sampler_str='OFTI', # name of algorithm for orbit-fitting\n",
    "                                  num_secondary_bodies=1, # number of secondary bodies in system\n",
    "                                  system_mass=1.22, # total system mass [M_sun]\n",
    "                                  plx=56.95, # total parallax of system [mas]\n",
    "                                  mass_err=0.08, # mass error [M_sun]\n",
    "                                  plx_err=0.26 # parallax error [mas]\n",
    "                             #,system_kwargs = {'fit_secondary_mass':True,\n",
    "                                  #'tau_ref_epoch':0 \n",
    "                                              #,'gamma_bounds':(33,41) \n",
    "                                              #,'jitter_bounds':(1e-3, 50)\n",
    "                                             #}\n",
    "                            )"
   ]
  },
  {
   "cell_type": "code",
   "execution_count": 20,
   "metadata": {},
   "outputs": [
    {
     "ename": "TypeError",
     "evalue": "scale_and_rotate() missing 1 required positional argument: 'num_samples'",
     "output_type": "error",
     "traceback": [
      "\u001b[0;31m---------------------------------------------------------------------------\u001b[0m",
      "\u001b[0;31mTypeError\u001b[0m                                 Traceback (most recent call last)",
      "\u001b[0;32m<timed exec>\u001b[0m in \u001b[0;36m<module>\u001b[0;34m\u001b[0m\n",
      "\u001b[0;32m~/orbitize/orbitize/sampler.py\u001b[0m in \u001b[0;36mrun_sampler\u001b[0;34m(self, total_orbits, num_samples)\u001b[0m\n\u001b[1;32m    294\u001b[0m             \u001b[0;31m# if the semimajor axis prior is standard, do scale-and-rotate\u001b[0m\u001b[0;34m\u001b[0m\u001b[0;34m\u001b[0m\u001b[0;34m\u001b[0m\u001b[0m\n\u001b[1;32m    295\u001b[0m             \u001b[0;32mif\u001b[0m \u001b[0msma_prior\u001b[0m\u001b[0;34m.\u001b[0m\u001b[0m__repr__\u001b[0m\u001b[0;34m(\u001b[0m\u001b[0;34m)\u001b[0m \u001b[0;34m==\u001b[0m \u001b[0;34m\"Log Uniform\"\u001b[0m\u001b[0;34m:\u001b[0m\u001b[0;34m\u001b[0m\u001b[0;34m\u001b[0m\u001b[0m\n\u001b[0;32m--> 296\u001b[0;31m                 \u001b[0msamples\u001b[0m \u001b[0;34m=\u001b[0m \u001b[0mself\u001b[0m\u001b[0;34m.\u001b[0m\u001b[0mscale_and_rotate\u001b[0m\u001b[0;34m(\u001b[0m\u001b[0mnum_samples\u001b[0m\u001b[0;34m)\u001b[0m\u001b[0;34m\u001b[0m\u001b[0;34m\u001b[0m\u001b[0m\n\u001b[0m\u001b[1;32m    297\u001b[0m \u001b[0;34m\u001b[0m\u001b[0m\n\u001b[1;32m    298\u001b[0m             \u001b[0;31m# otherwise, don't scale and rotate. Just do rejection sampling\u001b[0m\u001b[0;34m\u001b[0m\u001b[0;34m\u001b[0m\u001b[0;34m\u001b[0m\u001b[0m\n",
      "\u001b[0;31mTypeError\u001b[0m: scale_and_rotate() missing 1 required positional argument: 'num_samples'"
     ]
    }
   ],
   "source": [
    "%%time\n",
    "s = myDriver_orb.sampler\n",
    "orbits = s.run_sampler(10)"
   ]
  },
  {
   "cell_type": "code",
   "execution_count": null,
   "metadata": {},
   "outputs": [],
   "source": []
  }
 ],
 "metadata": {
  "kernelspec": {
   "display_name": "Python 3",
   "language": "python",
   "name": "python3"
  },
  "language_info": {
   "codemirror_mode": {
    "name": "ipython",
    "version": 3
   },
   "file_extension": ".py",
   "mimetype": "text/x-python",
   "name": "python",
   "nbconvert_exporter": "python",
   "pygments_lexer": "ipython3",
   "version": "3.7.3"
  }
 },
 "nbformat": 4,
 "nbformat_minor": 2
}
