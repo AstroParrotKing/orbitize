{
 "cells": [
  {
   "cell_type": "markdown",
   "metadata": {},
   "source": [
    "# MCMC Introduction\n",
    "\n",
    "by Jason Wang and Henry Ngo (2018)\n",
    "\n",
    "Here, we will explain how to sample an orbit posterior using MCMC techniques. MCMC samplers take some time\n",
    "to fully converge on the complex posterior, but should be able to explore all posteriors in roughly the same\n",
    "amount of time (unlike OFTI). We will use the parallel-tempered version of the Affine-invariant sample from\n",
    "the `emcee` package, as the parallel tempering helps the walkers get out of local minima. Parallel-tempering can\n",
    "be disabled by setting the number of temperatures to 1, and will revert back to using the regular ensemble \n",
    "sampler from emcee. "
   ]
  },
  {
   "cell_type": "markdown",
   "metadata": {},
   "source": [
    "## Read in Data and Set up Sampler"
   ]
  },
  {
   "cell_type": "markdown",
   "metadata": {},
   "source": [
    "We use `orbitize.driver.Driver` to streamline the processes of reading in data, setting up the two-body interaction, and setting up the MCMC sampler.\n",
    "\n",
    "When setting up the sampler, we need to decide how many temperatures and how many walkers per temperature\n",
    "to use. Increasing the number of temperatures further ensures your walkers will explore all of parameter space\n",
    "and will not get stuck in local minima. Increasing the number of walkers gives you more samples to use, and, for\n",
    "the Affine-invariant sampler, a minimum number is required for good convergence. Of course, the trade off is that\n",
    "more samplers means more computation time. We find 20 temperatures and 1000 walkers to be reliable for convergence. Since this is a tutorial meant to be run quickly, we use fewer walkers and temperatures here.\n",
    "\n",
    "Note that we will only use the samples from the lowest temperature walkers only. We also assume that our astrometric measurements follow a Gaussian distribution.\n",
    "\n",
    "`orbitize` can also fit for the total mass of the system and system parallax, including marginalizing over the uncertainties in those parameters."
   ]
  },
  {
   "cell_type": "code",
   "execution_count": 1,
   "metadata": {},
   "outputs": [
    {
     "name": "stdout",
     "output_type": "stream",
     "text": [
      "WARNING: KEPLER: Unable to import C-based Kepler's equation solver. Falling back to the slower NumPy implementation.\n"
     ]
    }
   ],
   "source": [
    "import numpy as np\n",
    "\n",
    "from orbitize import driver\n",
    "import multiprocessing as mp\n",
    "\n",
    "filename = \"../../tests/GJ504.csv\"\n",
    "\n",
    "# system parameters\n",
    "num_secondary_bodies = 1\n",
    "system_mass = 1.75 # [Msol]\n",
    "plx = 51.44 # [mas]\n",
    "mass_err = 0.05 # [Msol]\n",
    "plx_err = 0.12 # [mas]\n",
    "\n",
    "# MCMC parameters\n",
    "num_temps = 5\n",
    "num_walkers = 30\n",
    "num_threads = mp.cpu_count() # or a different number if you prefer\n",
    "\n",
    "\n",
    "my_driver = driver.Driver(\n",
    "    filename, 'MCMC', num_secondary_bodies, system_mass, plx, mass_err=mass_err, plx_err=plx_err,\n",
    "    mcmc_kwargs={'num_temps': num_temps, 'num_walkers': num_walkers, 'num_threads': num_threads}\n",
    ")"
   ]
  },
  {
   "cell_type": "markdown",
   "metadata": {},
   "source": [
    "## Running the MCMC Sampler\n",
    "\n",
    "We need to pick how many steps the MCMC sampler should sample. Additionally, because the samples are correlated,\n",
    "we often only save every nth sample. This helps when we run a lot of samples, and saving all the samples requires\n",
    "too much disk space, despite the fact many samples are unnecessary because they are correlated."
   ]
  },
  {
   "cell_type": "code",
   "execution_count": 2,
   "metadata": {},
   "outputs": [
    {
     "name": "stderr",
     "output_type": "stream",
     "text": [
      "/Users/henryngo/SourceTreeRepos/orbitize/orbitize/priors.py:139: RuntimeWarning: invalid value encountered in log\n",
      "  lnprob = -np.log((element_array*normalizer))\n",
      "/Users/henryngo/SourceTreeRepos/orbitize/orbitize/priors.py:245: RuntimeWarning: invalid value encountered in log\n",
      "  lnprob = np.log(np.sin(element_array)/normalization)\n",
      "/Users/henryngo/SourceTreeRepos/orbitize/orbitize/priors.py:139: RuntimeWarning: invalid value encountered in log\n",
      "  lnprob = -np.log((element_array*normalizer))\n",
      "/Users/henryngo/SourceTreeRepos/orbitize/orbitize/priors.py:245: RuntimeWarning: invalid value encountered in log\n",
      "  lnprob = np.log(np.sin(element_array)/normalization)\n",
      "/Users/henryngo/SourceTreeRepos/orbitize/orbitize/priors.py:139: RuntimeWarning: invalid value encountered in log\n",
      "  lnprob = -np.log((element_array*normalizer))\n",
      "/Users/henryngo/SourceTreeRepos/orbitize/orbitize/priors.py:139: RuntimeWarning: invalid value encountered in log\n",
      "  lnprob = -np.log((element_array*normalizer))\n",
      "/Users/henryngo/SourceTreeRepos/orbitize/orbitize/priors.py:245: RuntimeWarning: invalid value encountered in log\n",
      "  lnprob = np.log(np.sin(element_array)/normalization)\n",
      "/Users/henryngo/SourceTreeRepos/orbitize/orbitize/priors.py:245: RuntimeWarning: invalid value encountered in log\n",
      "  lnprob = np.log(np.sin(element_array)/normalization)\n"
     ]
    },
    {
     "name": "stdout",
     "output_type": "stream",
     "text": [
      "Burn in complete\n",
      "Run complete\n"
     ]
    },
    {
     "data": {
      "text/plain": [
       "<ptemcee.sampler.Sampler at 0x10a592810>"
      ]
     },
     "execution_count": 2,
     "metadata": {},
     "output_type": "execute_result"
    }
   ],
   "source": [
    "total_orbits = 10000 # number of steps x number of walkers (at lowest temperature)\n",
    "burn_steps = 10 # steps to burn in per walker\n",
    "thin = 2 # only save every 2nd steps\n",
    "\n",
    "my_driver.sampler.run_sampler(total_orbits, burn_steps=burn_steps, thin=thin)"
   ]
  },
  {
   "cell_type": "markdown",
   "metadata": {},
   "source": [
    "After completing the samples, the `'run_sampler'` method also creates a `'Results'` object that can be accessed\n",
    "with `'my_sampler.results'`.\n",
    "\n",
    "## Plotting Basics\n",
    "\n",
    "We will make some basic plots to visualize the samples in `'my_sampler.results'`. orbitize currently has two basic\n",
    "plotting functions which returns matplotlib Figure objects. First, we can make a corner plot (also known as\n",
    "triangle plot, scatterplot matrix, pairs plot) to visualize correlations between pairs of orbit parameters:"
   ]
  },
  {
   "cell_type": "code",
   "execution_count": null,
   "metadata": {},
   "outputs": [],
   "source": [
    "corner_plot_fig = my_driver.sampler.results.plot_corner() # Creates a corner plot and returns Figure object\n",
    "corner_plot_fig.savefig('my_corner_plot.png') # This is matplotlib.figure.Figure.savefig()"
   ]
  },
  {
   "cell_type": "markdown",
   "metadata": {},
   "source": [
    "Next, we can plot a visualization of a selection of orbits sampled by our sampler. By default, the first epoch\n",
    "plotted is the year 2000 and 100 sampled orbits are displayed."
   ]
  },
  {
   "cell_type": "code",
   "execution_count": null,
   "metadata": {},
   "outputs": [],
   "source": [
    "orbit_plot_fig = my_driver.sampler.results.plot_orbits(\n",
    "                    object_to_plot = 1, # Plot orbits for the first (and only, in this case) companion\n",
    "                    num_orbits_to_plot= 100 # Will plot 100 randomly selected orbits of this companion\n",
    "                    )\n",
    "orbit_plot_fig.savefig('my_orbit_plot.png') # This is matplotlib.figure.Figure.savefig()"
   ]
  },
  {
   "cell_type": "markdown",
   "metadata": {},
   "source": [
    "For more advanced plotting options and suggestions on what to do with the returned matplotlib Figure objects,\n",
    "see the dedicated Plotting tutorial (coming soon).\n",
    "\n",
    "\n",
    "## Saving and Loading Results\n",
    "\n",
    "We will save the results in the HDF5 format. It will save two datasets: `'post'` which will contain the posterior\n",
    "(the chains of the lowest temperature walkers) and `'lnlike'` which has the corresponding probabilities. In addition,\n",
    "it saves `'sampler_name'` as an attribute of the HDF5 root group."
   ]
  },
  {
   "cell_type": "code",
   "execution_count": 9,
   "metadata": {
    "collapsed": true
   },
   "outputs": [],
   "source": [
    "hdf5_filename='my_posterior.hdf5'\n",
    "import os\n",
    "# To avoid weird behaviours, delete saved file if it already exists from previous run of this notebook\n",
    "if os.path.isfile(hdf5_filename): \n",
    "    os.remove(hdf5_filename)\n",
    "my_driver.sampler.results.save_results(hdf5_filename)"
   ]
  },
  {
   "cell_type": "markdown",
   "metadata": {},
   "source": [
    "Saving sampler results is a good idea when we want to analyze the results in a different script or when we you want to\n",
    "save the output of a long MCMC run to avoid having to re-run it in the future. We can then load the saved results into\n",
    "a new blank results object."
   ]
  },
  {
   "cell_type": "code",
   "execution_count": 4,
   "metadata": {
    "collapsed": true
   },
   "outputs": [],
   "source": [
    "from orbitize import results\n",
    "loaded_results = results.Results() # Create blank results object for loading\n",
    "loaded_results.load_results(hdf5_filename)"
   ]
  },
  {
   "cell_type": "markdown",
   "metadata": {},
   "source": [
    "Instead of loading results into an orbitize.results.Results object, we can also directly access the saved data using\n",
    "the `'h5py'` python module."
   ]
  },
  {
   "cell_type": "code",
   "execution_count": 5,
   "metadata": {
    "collapsed": true
   },
   "outputs": [],
   "source": [
    "import h5py\n",
    "filename = 'my_posterior.hdf5'\n",
    "hf = h5py.File(filename,'r') # Opens file for reading\n",
    "# Load up each dataset from hdf5 file\n",
    "sampler_name = np.str(hf.attrs['sampler_name'])\n",
    "post = np.array(hf.get('post'))\n",
    "lnlike = np.array(hf.get('lnlike'))\n",
    "hf.close() # Don't forget to close the file"
   ]
  },
  {
   "cell_type": "markdown",
   "metadata": {},
   "source": [
    "Although HDF5 is the recommend and default way to save results, we can also save and load as a Binary FITS table."
   ]
  },
  {
   "cell_type": "code",
   "execution_count": 11,
   "metadata": {},
   "outputs": [],
   "source": [
    "fits_filename='my_posterior.fits'\n",
    "import os\n",
    "# To avoid weird behaviours, delete saved file if it already exists from previous run of this notebook\n",
    "if os.path.isfile(fits_filename): \n",
    "    os.remove(fits_filename)\n",
    "# Saving results object\n",
    "my_driver.sampler.results.save_results(fits_filename, format='fits')\n",
    "\n",
    "# Loading results object\n",
    "from orbitize import results\n",
    "loaded_results = results.Results() # Create blank results object for loading\n",
    "loaded_results.load_results(fits_filename, format='fits')"
   ]
  },
  {
   "cell_type": "markdown",
   "metadata": {},
   "source": [
    "And, if we want to directly access the saved data, we should know that the data are saved as Binary FITS Table\n",
    "to the **first extension** HDU with information saved in the header and data attributes as below."
   ]
  },
  {
   "cell_type": "code",
   "execution_count": 12,
   "metadata": {
    "collapsed": true
   },
   "outputs": [],
   "source": [
    "from astropy.io import fits\n",
    "hdu_list = fits.open(fits_filename) # Opens file as HDUList object\n",
    "table_hdu = hdu_list[1] # Table data is in first extension\n",
    "# Get sampler_name from header\n",
    "sampler_name = table_hdu.header['SAMPNAME']\n",
    "# Get post and lnlike arrays from column names\n",
    "post = table_hdu.data.field('post')\n",
    "lnlike = table_hdu.data.field('lnlike')\n",
    "# Closes HDUList object\n",
    "hdu_list.close()"
   ]
  },
  {
   "cell_type": "code",
   "execution_count": null,
   "metadata": {
    "collapsed": true
   },
   "outputs": [],
   "source": []
  }
 ],
 "metadata": {
  "kernelspec": {
   "display_name": "Python 2",
   "language": "python",
   "name": "python2"
  },
  "language_info": {
   "codemirror_mode": {
    "name": "ipython",
    "version": 2
   },
   "file_extension": ".py",
   "mimetype": "text/x-python",
   "name": "python",
   "nbconvert_exporter": "python",
   "pygments_lexer": "ipython2",
   "version": "2.7.13"
  }
 },
 "nbformat": 4,
 "nbformat_minor": 2
}
