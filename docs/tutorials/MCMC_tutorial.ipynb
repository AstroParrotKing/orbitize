{
 "cells": [
  {
   "cell_type": "markdown",
   "metadata": {},
   "source": [
    "# MCMC Introduction\n",
    "\n",
    "by Jason Wang and Henry Ngo (2018)\n",
    "\n",
    "Here, we will explain how to sample an orbit posterior using MCMC techniques. MCMC samplers take some time\n",
    "to fully converge on the complex posterior, but should be able to explore all posteriors in roughly the same\n",
    "amount of time (unlike OFTI). We will use the parallel-tempered version of the Affine-invariant sample from\n",
    "the `ptemcee` package, as the parallel tempering helps the walkers get out of local minima. Parallel-tempering can\n",
    "be disabled by setting the number of temperatures to 1, and will revert back to using the regular ensemble \n",
    "sampler from emcee. "
   ]
  },
  {
   "cell_type": "markdown",
   "metadata": {},
   "source": [
    "## Read in Data and Set up Sampler"
   ]
  },
  {
   "cell_type": "markdown",
   "metadata": {},
   "source": [
    "We use `orbitize.driver.Driver` to streamline the processes of reading in data, setting up the two-body interaction, and setting up the MCMC sampler.\n",
    "\n",
    "When setting up the sampler, we need to decide how many temperatures and how many walkers per temperature\n",
    "to use. Increasing the number of temperatures further ensures your walkers will explore all of parameter space\n",
    "and will not get stuck in local minima. Increasing the number of walkers gives you more samples to use, and, for\n",
    "the Affine-invariant sampler, a minimum number is required for good convergence. Of course, the tradeoff is that\n",
    "more samplers means more computation time. We find 20 temperatures and 1000 walkers to be reliable for convergence. Since this is a tutorial meant to be run quickly, we use fewer walkers and temperatures here.\n",
    "\n",
    "Note that we will only use the samples from the lowest-temperature walkers. We also assume that our astrometric measurements follow a Gaussian distribution.\n",
    "\n",
    "`orbitize` can also fit for the total mass of the system and system parallax, including marginalizing over the uncertainties in those parameters."
   ]
  },
  {
   "cell_type": "code",
   "execution_count": 1,
   "metadata": {},
   "outputs": [
    {
     "ename": "AttributeError",
     "evalue": "'System' object has no attribute 'gamma_bounds'",
     "output_type": "error",
     "traceback": [
      "\u001b[0;31m---------------------------------------------------------------------------\u001b[0m",
      "\u001b[0;31mAttributeError\u001b[0m                            Traceback (most recent call last)",
      "\u001b[0;32m<ipython-input-1-ad96f1c099e2>\u001b[0m in \u001b[0;36m<module>\u001b[0;34m\u001b[0m\n\u001b[1;32m     22\u001b[0m my_driver = driver.Driver(\n\u001b[1;32m     23\u001b[0m     \u001b[0mfilename\u001b[0m\u001b[0;34m,\u001b[0m \u001b[0;34m'MCMC'\u001b[0m\u001b[0;34m,\u001b[0m \u001b[0mnum_secondary_bodies\u001b[0m\u001b[0;34m,\u001b[0m \u001b[0msystem_mass\u001b[0m\u001b[0;34m,\u001b[0m \u001b[0mplx\u001b[0m\u001b[0;34m,\u001b[0m \u001b[0mmass_err\u001b[0m\u001b[0;34m=\u001b[0m\u001b[0mmass_err\u001b[0m\u001b[0;34m,\u001b[0m \u001b[0mplx_err\u001b[0m\u001b[0;34m=\u001b[0m\u001b[0mplx_err\u001b[0m\u001b[0;34m,\u001b[0m\u001b[0;34m\u001b[0m\u001b[0;34m\u001b[0m\u001b[0m\n\u001b[0;32m---> 24\u001b[0;31m     \u001b[0mmcmc_kwargs\u001b[0m\u001b[0;34m=\u001b[0m\u001b[0;34m{\u001b[0m\u001b[0;34m'num_temps'\u001b[0m\u001b[0;34m:\u001b[0m \u001b[0mnum_temps\u001b[0m\u001b[0;34m,\u001b[0m \u001b[0;34m'num_walkers'\u001b[0m\u001b[0;34m:\u001b[0m \u001b[0mnum_walkers\u001b[0m\u001b[0;34m,\u001b[0m \u001b[0;34m'num_threads'\u001b[0m\u001b[0;34m:\u001b[0m \u001b[0mnum_threads\u001b[0m\u001b[0;34m}\u001b[0m\u001b[0;34m\u001b[0m\u001b[0;34m\u001b[0m\u001b[0m\n\u001b[0m\u001b[1;32m     25\u001b[0m )\n",
      "\u001b[0;32m~/miniconda3/envs/python3.6/lib/python3.6/site-packages/orbitize/driver.py\u001b[0m in \u001b[0;36m__init__\u001b[0;34m(self, input_data, sampler_str, num_secondary_bodies, system_mass, plx, mass_err, plx_err, lnlike, system_kwargs, mcmc_kwargs)\u001b[0m\n\u001b[1;32m     55\u001b[0m         self.system = orbitize.system.System(\n\u001b[1;32m     56\u001b[0m             \u001b[0mnum_secondary_bodies\u001b[0m\u001b[0;34m,\u001b[0m \u001b[0mdata_table\u001b[0m\u001b[0;34m,\u001b[0m \u001b[0msystem_mass\u001b[0m\u001b[0;34m,\u001b[0m\u001b[0;34m\u001b[0m\u001b[0;34m\u001b[0m\u001b[0m\n\u001b[0;32m---> 57\u001b[0;31m             \u001b[0mplx\u001b[0m\u001b[0;34m,\u001b[0m \u001b[0mmass_err\u001b[0m\u001b[0;34m=\u001b[0m\u001b[0mmass_err\u001b[0m\u001b[0;34m,\u001b[0m \u001b[0mplx_err\u001b[0m\u001b[0;34m=\u001b[0m\u001b[0mplx_err\u001b[0m\u001b[0;34m,\u001b[0m \u001b[0;34m**\u001b[0m\u001b[0msystem_kwargs\u001b[0m\u001b[0;34m\u001b[0m\u001b[0;34m\u001b[0m\u001b[0m\n\u001b[0m\u001b[1;32m     58\u001b[0m         )\n\u001b[1;32m     59\u001b[0m \u001b[0;34m\u001b[0m\u001b[0m\n",
      "\u001b[0;32m~/miniconda3/envs/python3.6/lib/python3.6/site-packages/orbitize/system.py\u001b[0m in \u001b[0;36m__init__\u001b[0;34m(self, num_secondary_bodies, data_table, stellar_mass, plx, mass_err, plx_err, restrict_angle_ranges, tau_ref_epoch, fit_secondary_mass, results, gamma_bounds, jitter_bounds)\u001b[0m\n\u001b[1;32m    146\u001b[0m \u001b[0;34m\u001b[0m\u001b[0m\n\u001b[1;32m    147\u001b[0m         \u001b[0;31m# we'll need to iterate over instruments here\u001b[0m\u001b[0;34m\u001b[0m\u001b[0;34m\u001b[0m\u001b[0;34m\u001b[0m\u001b[0m\n\u001b[0;32m--> 148\u001b[0;31m         \u001b[0;32mif\u001b[0m \u001b[0mself\u001b[0m\u001b[0;34m.\u001b[0m\u001b[0mgamma_bounds\u001b[0m \u001b[0;32mis\u001b[0m \u001b[0;32mnot\u001b[0m \u001b[0;32mNone\u001b[0m\u001b[0;34m:\u001b[0m\u001b[0;34m\u001b[0m\u001b[0;34m\u001b[0m\u001b[0m\n\u001b[0m\u001b[1;32m    149\u001b[0m             self.sys_priors.append(priors.UniformPrior(\n\u001b[1;32m    150\u001b[0m                 self.gamma_bounds[0], self.gamma_bounds[1]))\n",
      "\u001b[0;31mAttributeError\u001b[0m: 'System' object has no attribute 'gamma_bounds'"
     ]
    }
   ],
   "source": [
    "import numpy as np\n",
    "\n",
    "import orbitize\n",
    "from orbitize import driver\n",
    "import multiprocessing as mp\n",
    "\n",
    "filename = \"{}/GJ504.csv\".format(orbitize.DATADIR)\n",
    "\n",
    "# system parameters\n",
    "num_secondary_bodies = 1\n",
    "system_mass = 1.75 # [Msol]\n",
    "plx = 51.44 # [mas]\n",
    "mass_err = 0.05 # [Msol]\n",
    "plx_err = 0.12 # [mas]\n",
    "\n",
    "# MCMC parameters\n",
    "num_temps = 5\n",
    "num_walkers = 30\n",
    "num_threads = mp.cpu_count() # or a different number if you prefer\n",
    "\n",
    "\n",
    "my_driver = driver.Driver(\n",
    "    filename, 'MCMC', num_secondary_bodies, system_mass, plx, mass_err=mass_err, plx_err=plx_err,\n",
    "    mcmc_kwargs={'num_temps': num_temps, 'num_walkers': num_walkers, 'num_threads': num_threads}\n",
    ")"
   ]
  },
  {
   "cell_type": "markdown",
   "metadata": {},
   "source": [
    "## Running the MCMC Sampler\n",
    "\n",
    "We need to pick how many steps the MCMC sampler should sample. Additionally, because the samples are correlated,\n",
    "we often only save every nth sample. This helps when we run a lot of samples, because saving all the samples requires\n",
    "too much disk space and many samples are unnecessary because they are correlated."
   ]
  },
  {
   "cell_type": "code",
   "execution_count": null,
   "metadata": {},
   "outputs": [],
   "source": [
    "total_orbits = 10000 # number of steps x number of walkers (at lowest temperature)\n",
    "burn_steps = 10 # steps to burn in per walker\n",
    "thin = 2 # only save every 2nd step\n",
    "\n",
    "my_driver.sampler.run_sampler(total_orbits, burn_steps=burn_steps, thin=thin)"
   ]
  },
  {
   "cell_type": "markdown",
   "metadata": {},
   "source": [
    "After completing the samples, the `'run_sampler'` method also creates a `'Results'` object that can be accessed\n",
    "with `'my_sampler.results'`.\n",
    "\n",
    "## Plotting Basics\n",
    "\n",
    "We will make some basic plots to visualize the samples in `'my_sampler.results'`. Orbitize currently has two basic\n",
    "plotting functions which returns matplotlib Figure objects. First, we can make a corner plot (also known as\n",
    "triangle plot, scatterplot matrix, or pairs plot) to visualize correlations between pairs of orbit parameters:"
   ]
  },
  {
   "cell_type": "code",
   "execution_count": null,
   "metadata": {},
   "outputs": [],
   "source": [
    "corner_plot_fig = my_driver.sampler.results.plot_corner() # Creates a corner plot and returns Figure object\n",
    "corner_plot_fig.savefig('my_corner_plot.png') # This is matplotlib.figure.Figure.savefig()"
   ]
  },
  {
   "cell_type": "markdown",
   "metadata": {},
   "source": [
    "Next, we can plot a visualization of a selection of orbits sampled by our sampler. By default, the first epoch\n",
    "plotted is the year 2000 and 100 sampled orbits are displayed."
   ]
  },
  {
   "cell_type": "code",
   "execution_count": null,
   "metadata": {},
   "outputs": [],
   "source": [
    "epochs = my_driver.system.data_table['epoch']\n",
    "\n",
    "orbit_plot_fig = my_driver.sampler.results.plot_orbits(\n",
    "    object_to_plot = 1, # Plot orbits for the first (and only, in this case) companion\n",
    "    num_orbits_to_plot= 100, # Will plot 100 randomly selected orbits of this companion\n",
    "    start_mjd=epochs[0] # Minimum MJD for colorbar (here we choose first data epoch)\n",
    ")\n",
    "orbit_plot_fig.savefig('my_orbit_plot.png') # This is matplotlib.figure.Figure.savefig()"
   ]
  },
  {
   "cell_type": "markdown",
   "metadata": {},
   "source": [
    "For more advanced plotting options and suggestions on what to do with the returned matplotlib Figure objects,\n",
    "see the dedicated Plotting tutorial.\n",
    "\n",
    "\n",
    "## Saving and Loading Results\n",
    "\n",
    "We will save the results in the HDF5 format. It will save two datasets: `'post'` which will contain the posterior\n",
    "(the chains of the lowest temperature walkers) and `'lnlike'` which has the corresponding probabilities. In addition,\n",
    "it saves `'sampler_name'` as an attribute of the HDF5 root group."
   ]
  },
  {
   "cell_type": "code",
   "execution_count": null,
   "metadata": {},
   "outputs": [],
   "source": [
    "hdf5_filename='my_posterior.hdf5'\n",
    "import os\n",
    "# To avoid weird behaviours, delete saved file if it already exists from a previous run of this notebook\n",
    "if os.path.isfile(hdf5_filename): \n",
    "    os.remove(hdf5_filename)\n",
    "my_driver.sampler.results.save_results(hdf5_filename)"
   ]
  },
  {
   "cell_type": "markdown",
   "metadata": {},
   "source": [
    "Saving sampler results is a good idea when we want to analyze the results in a different script or when we want to save the output of a long MCMC run to avoid having to re-run it in the future. We can then load the saved results into a new blank results object."
   ]
  },
  {
   "cell_type": "code",
   "execution_count": null,
   "metadata": {},
   "outputs": [],
   "source": [
    "from orbitize import results\n",
    "loaded_results = results.Results() # Create blank results object for loading\n",
    "loaded_results.load_results(hdf5_filename)"
   ]
  },
  {
   "cell_type": "markdown",
   "metadata": {},
   "source": [
    "Instead of loading results into an orbitize.results.Results object, we can also directly access the saved data using\n",
    "the `'h5py'` python module."
   ]
  },
  {
   "cell_type": "code",
   "execution_count": null,
   "metadata": {},
   "outputs": [],
   "source": [
    "import h5py\n",
    "filename = 'my_posterior.hdf5'\n",
    "hf = h5py.File(filename,'r') # Opens file for reading\n",
    "# Load up each dataset from hdf5 file\n",
    "sampler_name = np.str(hf.attrs['sampler_name'])\n",
    "post = np.array(hf.get('post'))\n",
    "lnlike = np.array(hf.get('lnlike'))\n",
    "hf.close() # Don't forget to close the file"
   ]
  }
 ],
 "metadata": {
  "kernelspec": {
   "display_name": "Python 3",
   "language": "python",
   "name": "python3"
  },
  "language_info": {
   "codemirror_mode": {
    "name": "ipython",
    "version": 3
   },
   "file_extension": ".py",
   "mimetype": "text/x-python",
   "name": "python",
   "nbconvert_exporter": "python",
   "pygments_lexer": "ipython3",
   "version": "3.6.9"
  }
 },
 "nbformat": 4,
 "nbformat_minor": 2
}
