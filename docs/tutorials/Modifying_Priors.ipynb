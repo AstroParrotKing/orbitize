{
 "cells": [
  {
   "cell_type": "markdown",
   "metadata": {},
   "source": [
    "# Modifying Priors\n",
    "\n",
    "by Sarah Blunt (2018)\n",
    "\n",
    "Most often, you will use the `Driver` class to interact with `orbitize`. This class automatically reads your input file, creates all of the `orbitize` objects you need to run an orbit fit, and allows you to run the orbit fit. See the introductory OFTI and MCMC tutorials for examples of working with this class.\n",
    "\n",
    "However, sometimes you will want to work with the underlying methods directly. Doing this gives you control over the functionality `Driver` executes automatically, and allows you more flexibility.\n",
    "\n",
    "Modifying priors is an example of something you might want to use the underlying API for. This tutorial walks you through how to do that. \n",
    "\n",
    "### Goals of this tutorial:\n",
    "- Learn to modify priors in `orbitize`\n",
    "- Learn about the structure of the `orbitize` code base"
   ]
  },
  {
   "cell_type": "code",
   "execution_count": 36,
   "metadata": {},
   "outputs": [],
   "source": [
    "from matplotlib import pyplot as plt\n",
    "from orbitize import read_input, system, priors, sampler"
   ]
  },
  {
   "cell_type": "markdown",
   "metadata": {},
   "source": [
    "## Read in Data\n",
    "\n",
    "First, let's read in our data table. This is accomplished with `orbitize.read_input`:"
   ]
  },
  {
   "cell_type": "code",
   "execution_count": 2,
   "metadata": {},
   "outputs": [
    {
     "name": "stdout",
     "output_type": "stream",
     "text": [
      "   epoch    object quant1 quant1_err quant2 quant2_err quant_type\n",
      "----------- ------ ------ ---------- ------ ---------- ----------\n",
      "734601.7575      1 2479.0       16.0 327.94       0.39      seppa\n",
      "734660.1975      1 2483.0        8.0 327.45       0.19      seppa\n",
      "734740.5525      1 2481.0       33.0 326.84       0.94      seppa\n",
      " 734744.205      1 2448.0       24.0 325.82       0.66      seppa\n",
      "  734941.44      1 2483.0       15.0 326.46       0.36      seppa\n",
      "  734985.27      1 2487.0        8.0 326.54       0.18      seppa\n",
      "735025.4475      1 2499.0       26.0 326.14       0.61      seppa\n"
     ]
    }
   ],
   "source": [
    "data_table = read_input.read_formatted_file('tests/GJ504.csv')\n",
    "\n",
    "print(data_table)"
   ]
  },
  {
   "cell_type": "markdown",
   "metadata": {},
   "source": [
    "## Initialize `System` Object\n",
    "\n",
    "Next, we initialize an `orbitize.system.System` object. This object stores information about the system you're fitting, such as your data, the total mass, and the parallax."
   ]
  },
  {
   "cell_type": "code",
   "execution_count": 13,
   "metadata": {},
   "outputs": [],
   "source": [
    "# number of secondary bodies in system\n",
    "num_planets = 1\n",
    "\n",
    "# total mass & error [msol]\n",
    "system_mass = 1.22\n",
    "mass_err = 0.08 \n",
    "\n",
    "# parallax & error[mas]\n",
    "plx = 56.95\n",
    "plx_err = 0\n",
    "\n",
    "sys = system.System(\n",
    "    num_planets, data_table, system_mass, \n",
    "    plx, mass_err=mass_err, plx_err=plx_err\n",
    ")"
   ]
  },
  {
   "cell_type": "markdown",
   "metadata": {},
   "source": [
    "The `System` object has a few handy attributes to help you keep track of your fitting parameters. `System.labels` is a list of the names of your fit parameters, and `System.sys_priors` is a list of the priors on each parameter. Notice that the \"prior\" on parallax (`plx`) is just a float. That's because we fixed this parameter at the printed value by specifying that `plx_err`=0.\n",
    "\n",
    "Finally, `System.param_idx` is a dictionary that maps the parameter names from `System.labels` to their indices in `System.sys_priors`."
   ]
  },
  {
   "cell_type": "code",
   "execution_count": 26,
   "metadata": {},
   "outputs": [
    {
     "name": "stdout",
     "output_type": "stream",
     "text": [
      "['sma1', 'ecc1', 'inc1', 'aop1', 'pan1', 'epp1', 'plx', 'mtot']\n",
      "[Jeffreys, Uniform, Sine, Uniform, Uniform, Uniform, 56.95, Gaussian]\n",
      "{'ecc1': 1, 'sma1': 0, 'aop1': 3, 'mtot': 7, 'epp1': 5, 'inc1': 2, 'pan1': 4, 'plx': 6}\n"
     ]
    }
   ],
   "source": [
    "print(sys.labels)\n",
    "print(sys.sys_priors)\n",
    "print(sys.param_idx)\n",
    "\n",
    "# alias for convenience\n",
    "lab = sys.param_idx"
   ]
  },
  {
   "cell_type": "markdown",
   "metadata": {},
   "source": [
    "## Explore & Modify Priors\n",
    "\n",
    "Priors in `orbitize` are Python objects. You can view an exhaustive list [here](https://orbitize.readthedocs.io/en/latest/priors.html). Let's print out the attributes of some of our priors:"
   ]
  },
  {
   "cell_type": "code",
   "execution_count": 32,
   "metadata": {},
   "outputs": [
    {
     "name": "stdout",
     "output_type": "stream",
     "text": [
      "{'mu': 0.2, 'sigma': 0.05}\n",
      "{'maxval': 100.0, 'logmin': -2.3025850929940455, 'minval': 0.1, 'logmax': 4.605170185988092}\n"
     ]
    }
   ],
   "source": [
    "print(vars(sys.sys_priors[lab['ecc1']]))\n",
    "print(vars(sys.sys_priors[lab['sma1']]))"
   ]
  },
  {
   "cell_type": "markdown",
   "metadata": {},
   "source": [
    "Check out the priors documentation (linked above) for more info about the attributes of each of these priors."
   ]
  },
  {
   "cell_type": "markdown",
   "metadata": {},
   "source": [
    "Now that we understand how priors are represented and where they are stored, we can modify them! Here's an example of changing the prior on eccentricity from the current uniform prior to a Gaussian prior:"
   ]
  },
  {
   "cell_type": "code",
   "execution_count": 30,
   "metadata": {},
   "outputs": [
    {
     "name": "stdout",
     "output_type": "stream",
     "text": [
      "['sma1', 'ecc1', 'inc1', 'aop1', 'pan1', 'epp1', 'plx', 'mtot']\n",
      "[Jeffreys, Gaussian, Sine, Uniform, Uniform, Uniform, 56.95, Gaussian]\n"
     ]
    }
   ],
   "source": [
    "mu = 0.2\n",
    "sigma = 0.05\n",
    "\n",
    "sys.sys_priors[lab['ecc1']] = priors.GaussianPrior(mu, sigma)\n",
    "\n",
    "print(sys.labels)\n",
    "print(sys.sys_priors)\n",
    "print(vars(sys.sys_priors[lab['ecc1']]))"
   ]
  },
  {
   "cell_type": "markdown",
   "metadata": {},
   "source": [
    "## Run OFTI\n",
    "\n",
    "All right! We're in business. To finish up, I'll demonstrate how to run an orbit fit with our modified `System` object, first with OFTI, then with MCMC."
   ]
  },
  {
   "cell_type": "code",
   "execution_count": 39,
   "metadata": {},
   "outputs": [
    {
     "name": "stdout",
     "output_type": "stream",
     "text": [
      "500/500 orbits found\r"
     ]
    },
    {
     "data": {
      "text/plain": [
       "Text(0,0.5,'number of orbits')"
      ]
     },
     "execution_count": 39,
     "metadata": {},
     "output_type": "execute_result"
    },
    {
     "data": {
      "image/png": "[encoded data removed]",
      "text/plain": [
       "<Figure size 432x288 with 1 Axes>"
      ]
     },
     "metadata": {},
     "output_type": "display_data"
    }
   ],
   "source": [
    "ofti_sampler = sampler.OFTI(sys)\n",
    "\n",
    "# number of orbits to accept\n",
    "n_orbs = 500\n",
    "\n",
    "_ = ofti_sampler.run_sampler(n_orbs)\n",
    "\n",
    "accepted_eccentricities = ofti_sampler.results.post[:, lab['ecc1']]\n",
    "plt.hist(accepted_eccentricities)\n",
    "plt.xlabel('ecc'); plt.ylabel('number of orbits')"
   ]
  },
  {
   "cell_type": "markdown",
   "metadata": {},
   "source": [
    "## Run MCMC"
   ]
  },
  {
   "cell_type": "code",
   "execution_count": 40,
   "metadata": {},
   "outputs": [
    {
     "name": "stdout",
     "output_type": "stream",
     "text": [
      "Burn in complete\n"
     ]
    },
    {
     "name": "stderr",
     "output_type": "stream",
     "text": [
      "/Users/bluez3303/Documents/GitHub/orbitize/orbitize/priors.py:236: RuntimeWarning: invalid value encountered in log\n",
      "  lnprob = np.log(np.sin(element_array)/normalization)\n",
      "/Users/bluez3303/Documents/GitHub/orbitize/orbitize/priors.py:135: RuntimeWarning: invalid value encountered in log\n",
      "  lnprob = -np.log((element_array*normalizer))\n"
     ]
    },
    {
     "data": {
      "text/plain": [
       "Text(0,0.5,'number of orbits')"
      ]
     },
     "execution_count": 40,
     "metadata": {},
     "output_type": "execute_result"
    },
    {
     "data": {
      "image/png": "[encoded data removed]",
      "text/plain": [
       "<Figure size 432x288 with 1 Axes>"
      ]
     },
     "metadata": {},
     "output_type": "display_data"
    }
   ],
   "source": [
    "# number of temperatures & walkers for MCMC\n",
    "num_temps = 3\n",
    "num_walkers = 50\n",
    "\n",
    "# number of steps to take\n",
    "n_orbs = 500\n",
    "\n",
    "mcmc_sampler = sampler.MCMC(sys, num_temps, num_walkers)\n",
    "\n",
    "# number of orbits to accept\n",
    "n_orbs = 500\n",
    "\n",
    "_ = mcmc_sampler.run_sampler(n_orbs)\n",
    "\n",
    "accepted_eccentricities = mcmc_sampler.results.post[:, lab['ecc1']]\n",
    "plt.hist(accepted_eccentricities)\n",
    "plt.xlabel('ecc'); plt.ylabel('number of orbits')"
   ]
  }
 ],
 "metadata": {
  "kernelspec": {
   "display_name": "Python 3",
   "language": "python",
   "name": "python3"
  },
  "language_info": {
   "codemirror_mode": {
    "name": "ipython",
    "version": 3
   },
   "file_extension": ".py",
   "mimetype": "text/x-python",
   "name": "python",
   "nbconvert_exporter": "python",
   "pygments_lexer": "ipython3",
   "version": "3.5.5"
  }
 },
 "nbformat": 4,
 "nbformat_minor": 2
}
