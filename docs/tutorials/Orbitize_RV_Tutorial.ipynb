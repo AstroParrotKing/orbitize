{
 "cells": [
  {
   "cell_type": "markdown",
   "metadata": {},
   "source": [
    "# Radial Velocity Tutorial for MCMC\n",
    "\n",
    "By Roberto Tejada (2019)\n",
    "\n",
    "This tutorial will assume the user is familiar with the `Driver` class and is acquainted with MCMC terminology. For more information about MCMC, see the [MCMC Introduction Tutorial](https://orbitize.readthedocs.io/en/latest/tutorials/MCMC_tutorial.html). \n",
    "\n",
    "Here we explain how to jointly fit radial velocity data and relative astrometry using the MCMC technique. First we need a set of data containing radial velocity measurements. We check the data using `read_input` and observe the `quant_type` column for radial velocity data. For more information on `orbitize.read_input.read_file()`, see the [Formatting Input Tutorial](https://orbitize.readthedocs.io/en/latest/formatting_inputs.html). \n",
    "\n"
   ]
  },
  {
   "cell_type": "markdown",
   "metadata": {},
   "source": [
    "## Read and format data"
   ]
  },
  {
   "cell_type": "code",
   "execution_count": 1,
   "metadata": {
    "scrolled": true
   },
   "outputs": [
    {
     "name": "stdout",
     "output_type": "stream",
     "text": [
      " epoch   object  quant1  quant1_err quant2 quant2_err quant_type\n",
      "-------- ------ -------- ---------- ------ ---------- ----------\n",
      " 366.975      0 -0.54103    0.00123    nan        nan         rv\n",
      " 418.829      0 -0.40053    0.00206    nan        nan         rv\n",
      " 462.752      0 -0.24094     0.0011    nan        nan         rv\n",
      " 690.104      0  0.37292    0.00117    nan        nan         rv\n",
      " 784.771      0  0.46223    0.00133    nan        nan         rv\n",
      " 806.727      0  0.48519    0.00103    nan        nan         rv\n",
      " 837.717      0  0.49395    0.00117    nan        nan         rv\n",
      " 838.701      0  0.49751    0.00112    nan        nan         rv\n",
      " 839.711      0  0.50187    0.00112    nan        nan         rv\n",
      " 1010.12      0  0.53355    0.00135    nan        nan         rv\n",
      "1012.048      0  0.53164    0.00128    nan        nan         rv\n",
      "1014.102      0  0.53629     0.0016    nan        nan         rv\n",
      "1050.991      0  0.52154    0.00468    nan        nan         rv\n",
      "1170.748      0  0.50757     0.0014    nan        nan         rv\n",
      "1368.085      0  0.47678    0.00131    nan        nan         rv\n",
      "1410.027      0  0.46147    0.00523    nan        nan         rv\n",
      "1543.744      0  0.44311    0.00152    nan        nan         rv\n",
      "1550.729      0  0.43286    0.00147    nan        nan         rv\n",
      "1756.051      0  0.39329    0.00213    nan        nan         rv\n",
      "1899.784      0  0.36457    0.00163    nan        nan         rv\n",
      "2098.126      0  0.32986    0.00157    nan        nan         rv\n",
      "2489.042      0  0.26687     0.0015    nan        nan         rv\n",
      "2572.812      0  0.25035    0.00195    nan        nan         rv\n",
      "2987.728      0  0.19466    0.00238    nan        nan         rv\n",
      "2988.686      0  0.18469    0.00194    nan        nan         rv\n",
      "3238.956      0  0.16892    0.00134    nan        nan         rv\n",
      "3303.903      0  0.16769    0.00112    nan        nan         rv\n",
      "3339.765      0  0.16069    0.00119    nan        nan         rv\n",
      "3724.774      0  0.11302    0.00103    nan        nan         rv\n",
      "3724.776      0  0.11605    0.00112    nan        nan         rv\n",
      "4717.955      0  0.00984    0.00123    nan        nan         rv\n",
      "4719.008      0  0.01242    0.00115    nan        nan         rv\n",
      " 4720.01      0  0.01572    0.00123    nan        nan         rv\n",
      " 4720.97      0  0.01534    0.00113    nan        nan         rv\n",
      "4722.901      0  0.01479    0.00127    nan        nan         rv\n",
      " 4723.97      0  0.01423    0.00122    nan        nan         rv\n",
      "4724.974      0  0.01169     0.0012    nan        nan         rv\n",
      "4725.883      0  0.01383    0.00113    nan        nan         rv\n",
      "4727.005      0   0.0195    0.00123    nan        nan         rv\n",
      "4727.952      0   0.0175    0.00113    nan        nan         rv\n",
      " 5015.12      0 -0.00636    0.00141    nan        nan         rv\n",
      "5016.124      0 -0.00409    0.00138    nan        nan         rv\n",
      "5017.124      0 -0.00566    0.00121    nan        nan         rv\n",
      "5049.025      0 -0.01975    0.00124    nan        nan         rv\n",
      "5077.084      0 -0.01614    0.00128    nan        nan         rv\n",
      "5078.094      0 -0.01303    0.00126    nan        nan         rv\n",
      "5134.964      0 -0.01689    0.00136    nan        nan         rv\n",
      "5198.754      0 -0.02885     0.0012    nan        nan         rv\n",
      "5426.084      0 -0.04359    0.00125    nan        nan         rv\n",
      "5522.879      0  -0.0512     0.0013    nan        nan         rv\n",
      "5807.047      0 -0.07697     0.0013    nan        nan         rv\n",
      " 6149.05      0 -0.10429    0.00128    nan        nan         rv\n",
      "6319.701      0  -0.1102    0.00128    nan        nan         rv\n",
      "6327.708      0 -0.11332    0.00149    nan        nan         rv\n",
      "6508.145      0 -0.12324    0.00133    nan        nan         rv\n",
      "6913.034      0 -0.17085    0.00113    nan        nan         rv\n",
      "  6942.8      1    606.5        7.0 180.04       0.62      seppa\n",
      "  7031.7      1    606.6        6.4 180.52       0.58      seppa\n",
      "  7289.9      1    604.0        7.0  184.9        0.9      seppa\n"
     ]
    }
   ],
   "source": [
    "import numpy as np\n",
    "import matplotlib.pyplot as plt\n",
    "import orbitize\n",
    "from orbitize import read_input, system, priors, sampler, driver, DATADIR\n",
    "import multiprocessing as mp\n",
    "import pprint\n",
    "\n",
    "data_table = read_input.read_file(\"{}/HD4747.csv\".format(DATADIR)) # print all columns\n",
    "data_table.pprint_all()"
   ]
  },
  {
   "cell_type": "markdown",
   "metadata": {},
   "source": [
    "The `quant_type` column displays the type of data each row contains: astrometry (radec or seppa), or radial velocity (rv). For astrometry, `quant1` column contains right ascension or separation, and the `quant2` column contains declination or position angle. For rv data, `quant1` contains radial velocity data in $\\mathrm{km/s}$, while `quant2` is filled with `nan`. The table contains each respective error column. \n",
    "\n",
    "We can now initialize the `Driver` class. MCMC samplers take time to converge to absolute maxima in parameter space, and the more parameters we introduce, the longer we expect it to take."
   ]
  },
  {
   "cell_type": "markdown",
   "metadata": {},
   "source": [
    "## Create Driver Object\n",
    "\n",
    "For orbit fits using RV data, we need to fit the stellar and companion masses (`m0` and `m1`respectively as separate free parameters). This differs from the astrometry-only case where fitting the total mass `mtot` suffices. We set the system keyword `fit_secondary_mass` to `True` when initializing the Driver object."
   ]
  },
  {
   "cell_type": "code",
   "execution_count": 3,
   "metadata": {},
   "outputs": [],
   "source": [
    "filename = \"{}/HD4747.csv\".format(DATADIR)\n",
    "\n",
    "# system parameters\n",
    "num_secondary_bodies = 1\n",
    "system_mass = 0.84 # [Msol]\n",
    "plx = 53.18 # [mas]\n",
    "mass_err = 0.04 # [Msol]\n",
    "plx_err = 0.12 # [mas]\n",
    "\n",
    "# MCMC parameters\n",
    "num_temps = 5\n",
    "num_walkers = 30\n",
    "num_threads = mp.cpu_count() # or a different number if you prefer\n",
    "\n",
    "my_driver = driver.Driver(\n",
    "    filename, 'MCMC', num_secondary_bodies, system_mass, plx, mass_err=mass_err, plx_err=plx_err,\n",
    "    system_kwargs = {'fit_secondary_mass':True, 'tau_ref_epoch':0},\n",
    "    mcmc_kwargs={'num_temps': num_temps, 'num_walkers': num_walkers, 'num_threads': num_threads}\n",
    ")"
   ]
  },
  {
   "cell_type": "markdown",
   "metadata": {},
   "source": [
    "Since MCMC is an object in `orbitize!`, we can assign a variable to the sampler and work with this variable:"
   ]
  },
  {
   "cell_type": "code",
   "execution_count": 4,
   "metadata": {},
   "outputs": [],
   "source": [
    "m = my_driver.sampler"
   ]
  },
  {
   "cell_type": "markdown",
   "metadata": {},
   "source": [
    "# RV Priors\n",
    "\n",
    "The priors for the two RV parameters, the radial velocity offset (gamma), and jitter (sigma), have default uniform prior and log uniform prior respectively. The gamma uniform prior is set between $(-5,5)$ $\\mathrm{km/s}$, and the jitter log uniform prior is set for ($10^{-4},0.05$) $\\mathrm{km/s}$. The prior for `m1` is a log uniform prior and is set for ($10^{-3},2.0$)$M_\\odot$. The current version of orbitize addressed in this tutorial returns the stellar radial velocity only. \n",
    "\n",
    "We can change the priors as instructed in the [Modifying Priors](https://orbitize.readthedocs.io/en/latest/tutorials/Modifying_Priors.html) tutorial:"
   ]
  },
  {
   "cell_type": "code",
   "execution_count": 5,
   "metadata": {},
   "outputs": [
    {
     "name": "stdout",
     "output_type": "stream",
     "text": [
      "['sma1', 'ecc1', 'inc1', 'aop1', 'pan1', 'tau1', 'plx', 'gamma', 'sigma', 'm1', 'm0']\n",
      "[Log Uniform, Uniform, Sine, Uniform, Uniform, Uniform, Gaussian, Uniform, Log Uniform, Log Uniform, Gaussian]\n",
      "{'minval': 1e-06, 'maxval': 1, 'logmin': -13.815510557964274, 'logmax': 0.0}\n"
     ]
    }
   ],
   "source": [
    "# getting the system object:\n",
    "sys = my_driver.system\n",
    "\n",
    "lab = sys.param_idx\n",
    "\n",
    "print(sys.labels)\n",
    "print(sys.sys_priors)\n",
    "\n",
    "print(vars(sys.sys_priors[lab['m1']]))"
   ]
  },
  {
   "cell_type": "code",
   "execution_count": 6,
   "metadata": {},
   "outputs": [
    {
     "name": "stdout",
     "output_type": "stream",
     "text": [
      "['sma1', 'ecc1', 'inc1', 'aop1', 'pan1', 'tau1', 'plx', 'gamma', 'sigma', 'm1', 'm0']\n",
      "[Log Uniform, Uniform, Sine, Uniform, Uniform, Uniform, Gaussian, Uniform, Log Uniform, Log Uniform, Gaussian]\n",
      "{'minval': 0.0001, 'maxval': 0.5, 'logmin': -9.210340371976182, 'logmax': -0.6931471805599453}\n"
     ]
    }
   ],
   "source": [
    "# change the m1 prior:\n",
    "sys.sys_priors[lab['m1']] = priors.LogUniformPrior(1e-4, 0.5)\n",
    "\n",
    "print(sys.labels)\n",
    "print(sys.sys_priors)\n",
    "print(vars(sys.sys_priors[lab['m1']]))"
   ]
  },
  {
   "cell_type": "markdown",
   "metadata": {},
   "source": [
    "## Running the MCMC Sampler\n",
    "\n",
    "As noted in the [MCMC Introduction Tutorial](https://orbitize.readthedocs.io/en/latest/tutorials/MCMC_tutorial.html), we must choose the sampler step for MCMC and can save every $nth$ sample to avoid using too much disk space."
   ]
  },
  {
   "cell_type": "code",
   "execution_count": 7,
   "metadata": {},
   "outputs": [],
   "source": [
    "total_orbits = 10000 # number of steps x number of walkers (at lowest temperature)\n",
    "burn_steps = 10 # steps to burn in per walker\n",
    "thin = 10 # only save every 10th step"
   ]
  },
  {
   "cell_type": "code",
   "execution_count": 8,
   "metadata": {},
   "outputs": [
    {
     "name": "stderr",
     "output_type": "stream",
     "text": [
      "/Users/bluez3303/miniconda3/envs/python3.6/lib/python3.6/site-packages/orbitize/priors.py:168: RuntimeWarning: invalid value encountered in log\n",
      "  lnprob = -np.log((element_array*normalizer))\n",
      "/Users/bluez3303/miniconda3/envs/python3.6/lib/python3.6/site-packages/orbitize/priors.py:168: RuntimeWarning: invalid value encountered in log\n",
      "  lnprob = -np.log((element_array*normalizer))\n",
      "/Users/bluez3303/miniconda3/envs/python3.6/lib/python3.6/site-packages/orbitize/priors.py:277: RuntimeWarning: invalid value encountered in log\n",
      "  lnprob = np.log(np.sin(element_array)/normalization)\n",
      "/Users/bluez3303/miniconda3/envs/python3.6/lib/python3.6/site-packages/orbitize/priors.py:168: RuntimeWarning: invalid value encountered in log\n",
      "  lnprob = -np.log((element_array*normalizer))\n",
      "/Users/bluez3303/miniconda3/envs/python3.6/lib/python3.6/site-packages/orbitize/priors.py:168: RuntimeWarning: invalid value encountered in log\n",
      "  lnprob = -np.log((element_array*normalizer))\n",
      "/Users/bluez3303/miniconda3/envs/python3.6/lib/python3.6/site-packages/orbitize/priors.py:277: RuntimeWarning: invalid value encountered in log\n",
      "  lnprob = np.log(np.sin(element_array)/normalization)\n",
      "/Users/bluez3303/miniconda3/envs/python3.6/lib/python3.6/site-packages/orbitize/priors.py:277: RuntimeWarning: invalid value encountered in log\n",
      "  lnprob = np.log(np.sin(element_array)/normalization)\n",
      "/Users/bluez3303/miniconda3/envs/python3.6/lib/python3.6/site-packages/orbitize/priors.py:277: RuntimeWarning: invalid value encountered in log\n",
      "  lnprob = np.log(np.sin(element_array)/normalization)\n"
     ]
    },
    {
     "name": "stdout",
     "output_type": "stream",
     "text": [
      "Burn in complete\n",
      "330/334 steps completed\n",
      "Run complete\n"
     ]
    },
    {
     "data": {
      "text/plain": [
       "<ptemcee.sampler.Sampler at 0x111db3f28>"
      ]
     },
     "execution_count": 8,
     "metadata": {},
     "output_type": "execute_result"
    }
   ],
   "source": [
    "m.run_sampler(total_orbits, burn_steps=burn_steps, thin=thin)"
   ]
  },
  {
   "cell_type": "markdown",
   "metadata": {},
   "source": [
    "Now we can plot the distribution of MCMC parameter of interest:"
   ]
  },
  {
   "cell_type": "code",
   "execution_count": 9,
   "metadata": {},
   "outputs": [
    {
     "data": {
      "image/png": "[encoded data removed]",
      "text/plain": [
       "<Figure size 432x288 with 1 Axes>"
      ]
     },
     "metadata": {
      "needs_background": "light"
     },
     "output_type": "display_data"
    }
   ],
   "source": [
    "accepted_m1 = m.results.post[:, lab['m1']]\n",
    "plt.hist(accepted_m1)\n",
    "plt.xlabel('m1'); plt.ylabel('number of orbits')\n",
    "plt.show()"
   ]
  },
  {
   "cell_type": "markdown",
   "metadata": {},
   "source": [
    "# Saving Results over Extended MCMC Run\n",
    "\n",
    "Sometimes our MCMC run will need to run for an extended period of time to let the walkers converge. To observe the convergence, we often need to see the walkers' progress along parameter space. We can save the sampler results periodically and keep running the sampler until convergence. To run for a greater number of steps and periodically save the results, we can create a for-loop and run for as many iterations as we'd like.  "
   ]
  },
  {
   "cell_type": "markdown",
   "metadata": {},
   "source": [
    "We define a new driver object for this loop as follows:"
   ]
  },
  {
   "cell_type": "code",
   "execution_count": null,
   "metadata": {},
   "outputs": [],
   "source": [
    "# MCMC parameters\n",
    "num_temps = 5\n",
    "num_walkers = 30\n",
    "num_threads = mp.cpu_count() # or a different number if you prefer\n",
    "\n",
    "n_iter = 2 # number of iterations\n",
    "\n",
    "my_driver = driver.Driver(\n",
    "    filename, 'MCMC', num_secondary_bodies, system_mass, plx, mass_err=mass_err, plx_err=plx_err,\n",
    "    system_kwargs = {'fit_secondary_mass':True, 'tau_ref_epoch':0},\n",
    "    mcmc_kwargs={'num_temps': num_temps, 'num_walkers': num_walkers, 'num_threads': num_threads}\n",
    ")\n",
    "\n",
    "m = my_driver.sampler"
   ]
  },
  {
   "cell_type": "markdown",
   "metadata": {},
   "source": [
    "We define the `n_iter` below to mark how many MCMC runs to save our within results. We create a directory called `orbitize_results/mcmcrun` to save our results object at the end of each iteration. The subfolder is a timestamp of the time we run our sampler formated as (year-month-day-hour-minute-second). Keeping track of the hours and seconds makes sure we do not create directories that already exist if we run the cell below more than once over a short time interval:"
   ]
  },
  {
   "cell_type": "code",
   "execution_count": null,
   "metadata": {},
   "outputs": [],
   "source": [
    "import os\n",
    "from datetime import datetime\n",
    "\n",
    "today = datetime.now()\n",
    "path = '/Users/Helios/' # your path here\n",
    "\n",
    "directory = path + 'orbitize_results/mcmcrun/' + today.strftime('%Y-%m-%d-%H-%M-%S') + '/'\n",
    "os.makedirs(directory)"
   ]
  },
  {
   "cell_type": "markdown",
   "metadata": {},
   "source": [
    "We're now ready for the loop! The `results` object contains a `save_results` function which lets us save the results for our directory:"
   ]
  },
  {
   "cell_type": "code",
   "execution_count": null,
   "metadata": {},
   "outputs": [],
   "source": [
    "n_iter = 2\n",
    "for i in range(n_iter):\n",
    "    \n",
    "    # running the sampler:\n",
    "    orbits = m.run_sampler(total_orbits, burn_steps=burn_steps, thin=thin)\n",
    "    results = m.results\n",
    "    results.save_results(directory + 'orbits_rv_%1d' % i) # saves results object as an hdf5 file"
   ]
  },
  {
   "cell_type": "markdown",
   "metadata": {},
   "source": [
    "# Plotting and Accesing Saved Results"
   ]
  },
  {
   "cell_type": "markdown",
   "metadata": {},
   "source": [
    "We can plot the corner plot saved in the results object by following the steps in the [Advanced Plotting Tutorial](https://orbitize.readthedocs.io/en/latest/tutorials/Plotting_tutorial.html):"
   ]
  },
  {
   "cell_type": "code",
   "execution_count": null,
   "metadata": {},
   "outputs": [],
   "source": [
    "corner_figure = results.plot_corner(quantiles=[0.16,0.5,0.84],show_titles=True,title_kwargs={\"fontsize\": 17})"
   ]
  },
  {
   "cell_type": "markdown",
   "metadata": {},
   "source": [
    "As illustrated in the plot above, MCMC needs more time to run. We only performed two iterations in the loop to demonstrate its useage, but with increased `n_iter`, the trendplots saved in the loop and the corner plot will show how the walkers converge to absolute extrema in parameter space."
   ]
  },
  {
   "cell_type": "markdown",
   "metadata": {},
   "source": [
    "To access the saved data, we can read it into a results object as shown in the [MCMC Introduction Tutorial](https://orbitize.readthedocs.io/en/latest/tutorials/MCMC_tutorial.html):"
   ]
  },
  {
   "cell_type": "code",
   "execution_count": null,
   "metadata": {},
   "outputs": [],
   "source": [
    "from orbitize import results\n",
    "\n",
    "hdf5_filename = directory + 'orbits_rv_1'\n",
    "loaded_results = results.Results() # Create blank results object for loading\n",
    "loaded_results.load_results(hdf5_filename)"
   ]
  },
  {
   "cell_type": "markdown",
   "metadata": {},
   "source": [
    "To demonstrate use of the loaded results file above, we can use the saved results to plot our orbital plots:"
   ]
  },
  {
   "cell_type": "code",
   "execution_count": null,
   "metadata": {},
   "outputs": [],
   "source": [
    "epochs = my_driver.system.data_table['epoch']\n",
    "orbit_plot_fig = loaded_results.plot_orbits(\n",
    "    object_to_plot = 1, # Plot orbits for the first (and only, in this case) companion\n",
    "    num_orbits_to_plot= 50, # Will plot 50 randomly selected orbits of this companion\n",
    "    start_mjd=epochs[0] # Minimum MJD for colorbar (here we choose first data epoch)\n",
    ")"
   ]
  }
 ],
 "metadata": {
  "kernelspec": {
   "display_name": "Python 3",
   "language": "python",
   "name": "python3"
  },
  "language_info": {
   "codemirror_mode": {
    "name": "ipython",
    "version": 3
   },
   "file_extension": ".py",
   "mimetype": "text/x-python",
   "name": "python",
   "nbconvert_exporter": "python",
   "pygments_lexer": "ipython3",
   "version": "3.6.10"
  }
 },
 "nbformat": 4,
 "nbformat_minor": 2
}
