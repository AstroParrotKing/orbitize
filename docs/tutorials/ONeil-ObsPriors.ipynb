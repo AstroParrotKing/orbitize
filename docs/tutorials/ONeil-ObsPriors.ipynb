{
 "cells": [
  {
   "cell_type": "markdown",
   "metadata": {},
   "source": [
    "# Using the O'Neil (2019) Observation-based Priors\n",
    "\n",
    "by Sarah Blunt (2024)"
   ]
  },
  {
   "cell_type": "code",
   "execution_count": 3,
   "metadata": {},
   "outputs": [],
   "source": [
    "# TODO: write tutorial intro\n",
    "\n",
    "import numpy as np\n",
    "import multiprocessing as mp\n",
    "\n",
    "import orbitize\n",
    "from orbitize import driver, priors"
   ]
  },
  {
   "cell_type": "markdown",
   "metadata": {},
   "source": [
    "### Set up MCMC run"
   ]
  },
  {
   "cell_type": "code",
   "execution_count": 4,
   "metadata": {},
   "outputs": [],
   "source": [
    "filename = \"{}/GJ504.csv\".format(orbitize.DATADIR)\n",
    "\n",
    "# system parameters\n",
    "num_secondary_bodies = 1\n",
    "system_mass = 1.75  # [Msol]\n",
    "plx = 51.44  # [mas]\n",
    "\n",
    "# MCMC parameters\n",
    "num_temps = 10\n",
    "num_walkers = 50\n",
    "num_threads = mp.cpu_count()  # or a different number if you prefer\n",
    "\n",
    "\n",
    "my_driver = driver.Driver(\n",
    "    filename,\n",
    "    \"MCMC\",\n",
    "    num_secondary_bodies,\n",
    "    system_mass,\n",
    "    plx,\n",
    "    mass_err=0,\n",
    "    plx_err=0,\n",
    "    mcmc_kwargs={\n",
    "        \"num_temps\": num_temps,\n",
    "        \"num_walkers\": num_walkers,\n",
    "        \"num_threads\": num_threads,\n",
    "    },\n",
    ")"
   ]
  },
  {
   "cell_type": "markdown",
   "metadata": {},
   "source": [
    "## Modify Priors\n",
    "\n",
    "Define the priors on `sma`, `ecc`, `tau`, `plx`, and `mtot` to be the O'Neil observation-based prior."
   ]
  },
  {
   "cell_type": "code",
   "execution_count": 13,
   "metadata": {},
   "outputs": [
    {
     "name": "stdout",
     "output_type": "stream",
     "text": [
      "{'sma1': 0, 'ecc1': 1, 'inc1': 2, 'aop1': 3, 'pan1': 4, 'tau1': 5, 'plx': 6, 'mtot': 7}\n"
     ]
    },
    {
     "data": {
      "text/plain": [
       "[ObsPrior, ObsPrior, Sine, Uniform, Uniform, ObsPrior, ObsPrior, ObsPrior]"
      ]
     },
     "execution_count": 13,
     "metadata": {},
     "output_type": "execute_result"
    }
   ],
   "source": [
    "# convert input sep/PA measurements to RA/decl\n",
    "sep = np.array(my_driver.system.data_table[\"quant1\"])\n",
    "sep_err = np.array(my_driver.system.data_table[\"quant1_err\"])\n",
    "pa = np.radians(np.array(my_driver.system.data_table[\"quant2\"]))\n",
    "pa_err = np.radians(np.array(my_driver.system.data_table[\"quant2_err\"]))\n",
    "\n",
    "\n",
    "ra_err = np.sqrt((np.cos(pa) * sep_err) ** 2 + (sep * np.sin(pa) * pa_err) ** 2)\n",
    "dec_err = np.sqrt((np.sin(pa) * sep_err) ** 2 + (sep * np.cos(pa) * pa_err) ** 2)\n",
    "\n",
    "\n",
    "epochs = np.array(my_driver.system.data_table[\"epoch\"])\n",
    "\n",
    "# define the `ObsPrior` object\n",
    "my_obsprior = priors.ObsPrior(ra_err, dec_err, epochs)\n",
    "\n",
    "# TODO: change the basis\n",
    "\n",
    "print(my_driver.system.param_idx)\n",
    "\n",
    "# set the priors on `sma`, `ecc`, `tau`, `mtot`, and `plx` to point to this object\n",
    "for i in [0, 1, 5]:\n",
    "    my_driver.system.sys_priors[i] = my_obsprior\n",
    "\n",
    "my_driver.system.sys_priors"
   ]
  },
  {
   "cell_type": "markdown",
   "metadata": {},
   "source": [
    "### Run MCMC!"
   ]
  },
  {
   "cell_type": "code",
   "execution_count": null,
   "metadata": {},
   "outputs": [],
   "source": [
    "my_driver.sampler.run_sampler(100000, burn_steps=1000, examine_chains=True)"
   ]
  },
  {
   "cell_type": "code",
   "execution_count": null,
   "metadata": {},
   "outputs": [],
   "source": [
    "my_corner = my_driver.sampler.results.plot_corner()\n",
    "my_corner"
   ]
  },
  {
   "cell_type": "markdown",
   "metadata": {},
   "source": [
    "### Examine the Prior Shapes"
   ]
  },
  {
   "cell_type": "code",
   "execution_count": null,
   "metadata": {},
   "outputs": [],
   "source": [
    "n_pts = 10\n",
    "\n",
    "# make an array of sample orbits to compute lnprob: maybe 1000 orbits long, drawn from uniform dists in all 5 params"
   ]
  }
 ],
 "metadata": {
  "kernelspec": {
   "display_name": "python3.11",
   "language": "python",
   "name": "python3"
  },
  "language_info": {
   "codemirror_mode": {
    "name": "ipython",
    "version": 3
   },
   "file_extension": ".py",
   "mimetype": "text/x-python",
   "name": "python",
   "nbconvert_exporter": "python",
   "pygments_lexer": "ipython3",
   "version": "3.11.4"
  }
 },
 "nbformat": 4,
 "nbformat_minor": 4
}
