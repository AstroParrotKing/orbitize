{
 "cells": [
  {
   "cell_type": "markdown",
   "metadata": {},
   "source": [
    "# Using the O'Neil (2019) Observation-based Priors\n",
    "\n",
    "by Sarah Blunt and Clarissa R. Do Ó (2024)\n",
    "\n",
    "\n",
    "### Background on Observable-base Priors \n",
    "\n",
    "Observable-based priors are a different set of priors from the standard \"parameter\" priors that most orbit fitting codes (including orbitize!) use. Here, rather than placing uniform priors on orbital parameters such as eccentricity and periastron passage, uniform priors are placed on the \"observables\" of the orbit (which are linearly related to the measured positions of the companion).  The idea behind these priors is that there is an equal probability (i.e., uniform probability) of obtaining observations in the regions of parameter space that are possible to observe. For that reason, observable priors present uniformity in the orbital observables, which can be transformed back to orbital parameters.\n",
    "\n",
    "The paper where these priors are introduced is  <a href = \"https://ui.adsabs.harvard.edu/abs/2019AJ....158....4O/abstract\"> O'Neil et al 2019</a>, so if you use this functionality please cite that paper.\n",
    "\n",
    "Note: The observable-based priors are set up in a different orbital basis from orbitize!'s basis. The main difference is that they use period P rather than semi-major axis a and periastron passage epoch (in years) rather than the unitless parameter $\\tau$.\n",
    "\n",
    "\n",
    "### Initial Set up\n",
    "\n",
    "First, we import orbitize's driver and the \"priors\" functionality:\n"
   ]
  },
  {
   "cell_type": "code",
   "execution_count": 1,
   "metadata": {},
   "outputs": [],
   "source": [
    "# TODO: write tutorial intro\n",
    "\n",
    "import numpy as np\n",
    "import multiprocessing as mp\n",
    "\n",
    "import orbitize\n",
    "from orbitize import driver, priors"
   ]
  },
  {
   "cell_type": "markdown",
   "metadata": {},
   "source": [
    "### Set up MCMC run\n",
    "\n",
    "Now, we will set up our MCMC run. Here, we will use the object HD 206893 B as an example orbit for this tutorial. \n",
    "\n",
    "We begin but providing the astrometry data in CSV format and the system's mass and parallax. For this tutorial, and in general, one should use RA and Dec astrometry measurements rather than separation/P.A..\n",
    "\n",
    "We also set up the number of temps, walkers and threads for our MCMC run and set up the driver object."
   ]
  },
  {
   "cell_type": "code",
   "execution_count": 3,
   "metadata": {},
   "outputs": [],
   "source": [
    "filename = \"{}/hd206893b.csv\".format(orbitize.DATADIR)\n",
    "\n",
    "# system parameters\n",
    "num_secondary_bodies = 1\n",
    "system_mass = 1.35  # [Msol]\n",
    "plx = 24.5272375  # [mas]\n",
    "\n",
    "# MCMC parameters\n",
    "num_temps = 10\n",
    "num_walkers = 50\n",
    "num_threads = mp.cpu_count()  # or a different number if you prefer\n",
    "\n",
    "\n",
    "my_driver = driver.Driver(\n",
    "    filename,\n",
    "    \"MCMC\",\n",
    "    num_secondary_bodies,\n",
    "    system_mass,\n",
    "    plx,\n",
    "    mass_err=0,\n",
    "    plx_err=0,\n",
    "    mcmc_kwargs={\n",
    "        \"num_temps\": num_temps,\n",
    "        \"num_walkers\": num_walkers,\n",
    "        \"num_threads\": num_threads,\n",
    "    },\n",
    ")"
   ]
  },
  {
   "cell_type": "markdown",
   "metadata": {},
   "source": [
    "Let's check if the data is being read correctly!"
   ]
  },
  {
   "cell_type": "code",
   "execution_count": 7,
   "metadata": {},
   "outputs": [
    {
     "data": {
      "text/html": [
       "<div><i>Table length=9</i>\n",
       "<table id=\"table140558710839472\" class=\"table-striped table-bordered table-condensed\">\n",
       "<thead><tr><th>epoch</th><th>object</th><th>quant1</th><th>quant1_err</th><th>quant2</th><th>quant2_err</th><th>quant12_corr</th><th>quant_type</th><th>instrument</th></tr></thead>\n",
       "<thead><tr><th>float64</th><th>int64</th><th>float64</th><th>float64</th><th>float64</th><th>float64</th><th>float64</th><th>bytes5</th><th>bytes5</th></tr></thead>\n",
       "<tr><td>57298.0</td><td>1</td><td>-253.72</td><td>2.98</td><td>92.35</td><td>2.85</td><td>nan</td><td>radec</td><td>defrd</td></tr>\n",
       "<tr><td>57606.0</td><td>1</td><td>-236.63</td><td>9.77</td><td>127.94</td><td>9.18</td><td>nan</td><td>radec</td><td>defrd</td></tr>\n",
       "<tr><td>57645.0</td><td>1</td><td>-234.52</td><td>1.79</td><td>123.39</td><td>1.03</td><td>nan</td><td>radec</td><td>defrd</td></tr>\n",
       "<tr><td>57946.0</td><td>1</td><td>-210.76</td><td>1.94</td><td>152.09</td><td>1.88</td><td>nan</td><td>radec</td><td>defrd</td></tr>\n",
       "<tr><td>58276.0</td><td>1</td><td>-167.49</td><td>1.61</td><td>180.87</td><td>16.97</td><td>nan</td><td>radec</td><td>defrd</td></tr>\n",
       "<tr><td>58287.0</td><td>1</td><td>-177.67</td><td>1.67</td><td>174.6</td><td>1.67</td><td>nan</td><td>radec</td><td>defrd</td></tr>\n",
       "<tr><td>58365.0</td><td>1</td><td>-165.7</td><td>3.28</td><td>185.33</td><td>3.66</td><td>nan</td><td>radec</td><td>defrd</td></tr>\n",
       "<tr><td>58368.0</td><td>1</td><td>-170.38</td><td>2.52</td><td>185.94</td><td>2.74</td><td>nan</td><td>radec</td><td>defrd</td></tr>\n",
       "<tr><td>58414.0</td><td>1</td><td>-161.64</td><td>13.6</td><td>176.21</td><td>14.31</td><td>nan</td><td>radec</td><td>defrd</td></tr>\n",
       "</table></div>"
      ],
      "text/plain": [
       "<Table length=9>\n",
       " epoch  object  quant1 quant1_err ... quant12_corr quant_type instrument\n",
       "float64 int64  float64  float64   ...   float64      bytes5     bytes5  \n",
       "------- ------ ------- ---------- ... ------------ ---------- ----------\n",
       "57298.0      1 -253.72       2.98 ...          nan      radec      defrd\n",
       "57606.0      1 -236.63       9.77 ...          nan      radec      defrd\n",
       "57645.0      1 -234.52       1.79 ...          nan      radec      defrd\n",
       "57946.0      1 -210.76       1.94 ...          nan      radec      defrd\n",
       "58276.0      1 -167.49       1.61 ...          nan      radec      defrd\n",
       "58287.0      1 -177.67       1.67 ...          nan      radec      defrd\n",
       "58365.0      1  -165.7       3.28 ...          nan      radec      defrd\n",
       "58368.0      1 -170.38       2.52 ...          nan      radec      defrd\n",
       "58414.0      1 -161.64       13.6 ...          nan      radec      defrd"
      ]
     },
     "execution_count": 7,
     "metadata": {},
     "output_type": "execute_result"
    }
   ],
   "source": [
    "my_driver.system.data_table"
   ]
  },
  {
   "cell_type": "markdown",
   "metadata": {},
   "source": [
    "## Modify Priors\n",
    "\n",
    "Define the priors on `sma`, `ecc`, `tau`, `plx`, and `mtot` to be the O'Neil observation-based prior."
   ]
  },
  {
   "cell_type": "code",
   "execution_count": 8,
   "metadata": {},
   "outputs": [
    {
     "ename": "AttributeError",
     "evalue": "module 'orbitize.priors' has no attribute 'ObsPrior'",
     "output_type": "error",
     "traceback": [
      "\u001b[0;31m---------------------------------------------------------------------------\u001b[0m",
      "\u001b[0;31mAttributeError\u001b[0m                            Traceback (most recent call last)",
      "\u001b[0;32m<ipython-input-8-1c048fde3cbd>\u001b[0m in \u001b[0;36m<module>\u001b[0;34m\u001b[0m\n\u001b[1;32m     13\u001b[0m \u001b[0;34m\u001b[0m\u001b[0m\n\u001b[1;32m     14\u001b[0m \u001b[0;31m# define the `ObsPrior` object\u001b[0m\u001b[0;34m\u001b[0m\u001b[0;34m\u001b[0m\u001b[0;34m\u001b[0m\u001b[0m\n\u001b[0;32m---> 15\u001b[0;31m \u001b[0mmy_obsprior\u001b[0m \u001b[0;34m=\u001b[0m \u001b[0mpriors\u001b[0m\u001b[0;34m.\u001b[0m\u001b[0mObsPrior\u001b[0m\u001b[0;34m(\u001b[0m\u001b[0mra_err\u001b[0m\u001b[0;34m,\u001b[0m \u001b[0mdec_err\u001b[0m\u001b[0;34m,\u001b[0m \u001b[0mepochs\u001b[0m\u001b[0;34m)\u001b[0m\u001b[0;34m\u001b[0m\u001b[0;34m\u001b[0m\u001b[0m\n\u001b[0m\u001b[1;32m     16\u001b[0m \u001b[0;34m\u001b[0m\u001b[0m\n\u001b[1;32m     17\u001b[0m \u001b[0;31m# TODO: change the basis\u001b[0m\u001b[0;34m\u001b[0m\u001b[0;34m\u001b[0m\u001b[0;34m\u001b[0m\u001b[0m\n",
      "\u001b[0;31mAttributeError\u001b[0m: module 'orbitize.priors' has no attribute 'ObsPrior'"
     ]
    }
   ],
   "source": [
    "# convert input sep/PA measurements to RA/decl\n",
    "ra = np.array(my_driver.system.data_table[\"quant1\"])\n",
    "ra_err = np.array(my_driver.system.data_table[\"quant1_err\"])\n",
    "dec = np.radians(np.array(my_driver.system.data_table[\"quant2\"]))\n",
    "pa_err = np.radians(np.array(my_driver.system.data_table[\"quant2_err\"]))\n",
    "[]\n",
    "\n",
    "#ra_err = np.sqrt((np.cos(pa) * sep_err) ** 2 + (sep * np.sin(pa) * pa_err) ** 2)\n",
    "#dec_err = np.sqrt((np.sin(pa) * sep_err) ** 2 + (sep * np.cos(pa) * pa_err) ** 2)\n",
    "\n",
    "\n",
    "epochs = np.array(my_driver.system.data_table[\"epoch\"])\n",
    "\n",
    "# define the `ObsPrior` object\n",
    "my_obsprior = priors.ObsPrior(ra_err, dec_err, epochs)\n",
    "\n",
    "# TODO: change the basis\n",
    "\n",
    "print(my_driver.system.param_idx)\n",
    "\n",
    "# set the priors on `sma`, `ecc`, `tau`, `mtot`, and `plx` to point to this object\n",
    "for i in [0, 1, 5]:\n",
    "    my_driver.system.sys_priors[i] = my_obsprior\n",
    "\n",
    "my_driver.system.sys_priors"
   ]
  },
  {
   "cell_type": "markdown",
   "metadata": {},
   "source": [
    "### Run MCMC!\n",
    "\n",
    "Let's run this orbit fit!"
   ]
  },
  {
   "cell_type": "code",
   "execution_count": null,
   "metadata": {},
   "outputs": [],
   "source": [
    "my_driver.sampler.run_sampler(100000, burn_steps=1000, examine_chains=True)"
   ]
  },
  {
   "cell_type": "code",
   "execution_count": null,
   "metadata": {},
   "outputs": [],
   "source": [
    "my_corner = my_driver.sampler.results.plot_corner()\n",
    "my_corner"
   ]
  },
  {
   "cell_type": "markdown",
   "metadata": {},
   "source": [
    "### Examine the Prior Shapes"
   ]
  },
  {
   "cell_type": "code",
   "execution_count": null,
   "metadata": {},
   "outputs": [],
   "source": [
    "n_pts = 10\n",
    "\n",
    "# make an array of sample orbits to compute lnprob: maybe 1000 orbits long, drawn from uniform dists in all 5 params"
   ]
  }
 ],
 "metadata": {
  "kernelspec": {
   "display_name": "Python 3",
   "language": "python",
   "name": "python3"
  },
  "language_info": {
   "codemirror_mode": {
    "name": "ipython",
    "version": 3
   },
   "file_extension": ".py",
   "mimetype": "text/x-python",
   "name": "python",
   "nbconvert_exporter": "python",
   "pygments_lexer": "ipython3",
   "version": "3.8.8"
  }
 },
 "nbformat": 4,
 "nbformat_minor": 4
}
