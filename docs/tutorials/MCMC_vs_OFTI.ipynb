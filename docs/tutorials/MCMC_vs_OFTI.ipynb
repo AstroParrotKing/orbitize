{
 "cells": [
  {
   "cell_type": "markdown",
   "metadata": {},
   "source": [
    "# MCMC vs OFTI Comparison\n",
    "\n",
    "by Sarah Blunt, 2018"
   ]
  },
  {
   "cell_type": "markdown",
   "metadata": {},
   "source": [
    "Welcome to the OFTI/MCMC comparison tutorial! This tutorial is meant to help you understand the differences between OFTI and MCMC algorithms so you know which one to pick for your data. \n",
    "\n",
    "Before we start, I'll give you the short answer: **for orbit fractions less than 5%, OFTI is generally faster to converge than MCMC**. This is not a hard-and-fast statistical rule, but I've found it to be a useful guideline. \n",
    "\n",
    "This tutorial is essentially an abstract of [Blunt et al (2017)](https://ui.adsabs.harvard.edu/#abs/2017AJ....153..229B/abstract). To dig deeper, I encourage you to read the paper (Sections 2.2-2.3 in particular).\n",
    "\n",
    "**Goals of This Tutorial**:\n",
    "- Understand qualitatively why OFTI converges faster than MCMC for certain datasets.\n",
    "- Learn to make educated choices of backend algorithms for your own datasets.\n",
    "\n",
    "**Prerequisites**:\n",
    "- This tutorial assumes knowledge of the `orbitize` API. Please go through at least the [OFTI](https://orbitize.readthedocs.io/en/latest/tutorials/OFTI_tutorial.html) and [MCMC](https://orbitize.readthedocs.io/en/latest/tutorials/MCMC_tutorial.html) introduction tutorials before this one.\n",
    "- This tutorial also assumes a qualitative understanding of OFTI and MCMC algorithms. I suggest you check out at least Section 2.1 of [Blunt et al (2017)](https://ui.adsabs.harvard.edu/#abs/2017AJ....153..229B/abstract) and [this blog post](https://jeremykun.com/2015/04/06/markov-chain-monte-carlo-without-all-the-bullshit/) before attempting to decode this tutorial.\n",
    "\n",
    "**Jargon**:\n",
    "- I will often use **orbit fraction**, or the fraction of the orbit spanned by the astrometric observations, as a figure of merit. In general, OFTI will converge faster than MCMC for small orbit fractions. \n",
    "- **Convergence** is defined differently for OFTI and for MCMC (see the OFTI paper for details). An OFTI run needs to accept a statistically large number of orbits for convergence, since each accepted orbit is independent of all others. For MCMC, convergence is a bit more complicated. At a high level, an MCMC run has converged when all walkers have explored the entire parameter space. There are several metrics for estimating MCMC convergence (e.g. GR statistic, min Tz statistic), but we'll just estimate convergence qualitatively in this tutorial."
   ]
  },
  {
   "cell_type": "code",
   "execution_count": 1,
   "metadata": {},
   "outputs": [],
   "source": [
    "import numpy as np\n",
    "import matplotlib.pyplot as plt\n",
    "import astropy.table\n",
    "import time\n",
    "\n",
    "from orbitize.kepler import calc_orbit\n",
    "from orbitize import system, sampler"
   ]
  },
  {
   "cell_type": "markdown",
   "metadata": {},
   "source": [
    "## Generate Synthetic Data\n",
    "\n",
    "Let's start by defining a function to generate synthetic data. This will allow us to easily test convergence speeds for different orbit fractions. I'll include the number of observations and the noise magnitude as keywords; I encourage you to test out different values throughout the tutorial!"
   ]
  },
  {
   "cell_type": "code",
   "execution_count": 2,
   "metadata": {},
   "outputs": [],
   "source": [
    "mstar = 1.2 # stellar mass [M_sol]\n",
    "plx = 60.0 # parallax [mas]\n",
    "\n",
    "def generate_synthetic_data(sma=30., num_obs=4, unc=10.0):\n",
    "    \"\"\" Generate an orbitize-table of synethic data\n",
    "    \n",
    "    Args:\n",
    "        sma (float): semimajor axis (au)\n",
    "        num_obs (int): number of observations to generate\n",
    "        unc (float): uncertainty on all simulated RA & Dec measurements (mas)\n",
    "        \n",
    "    Returns:\n",
    "        2-tuple:\n",
    "            - `astropy.table.Table`: data table of generated synthetic data\n",
    "            - float: the orbit fraction of the generated data\n",
    "    \"\"\"\n",
    "\n",
    "    # assumed ground truth for non-input orbital parameters\n",
    "    ecc = 0.5 # eccentricity\n",
    "    inc = np.pi/4 # inclination [rad]\n",
    "    argp = 0.\n",
    "    lan = 0. \n",
    "    tau = 0.5 \n",
    "\n",
    "    # calculate RA/Dec at three observation epochs\n",
    "    observation_epochs = np.linspace(51550., 52650., num_obs) # `num_obs` epochs between ~2000 and ~2003 [MJD]\n",
    "    num_obs = len(observation_epochs)\n",
    "    ra, dec, _ = calc_orbit(observation_epochs, sma, ecc, inc, argp, lan, tau, plx, mstar)\n",
    "\n",
    "    # add Gaussian noise to simulate measurement\n",
    "    ra += np.random.normal(scale=unc, size=num_obs)\n",
    "    dec += np.random.normal(scale=unc, size=num_obs)\n",
    "    \n",
    "    # define observational uncertainties\n",
    "    ra_err = dec_err = np.ones(num_obs)*unc\n",
    "    \n",
    "    # make a plot of the data\n",
    "    plt.figure()\n",
    "    plt.errorbar(ra, dec, xerr=ra_err, yerr=dec_err, linestyle='')\n",
    "    plt.xlabel('$\\\\Delta$ RA'); plt.ylabel('$\\\\Delta$ Dec')\n",
    "    \n",
    "    # calculate the orbital fraction\n",
    "    period = np.sqrt((sma**3)/mstar)\n",
    "    orbit_coverage = (max(observation_epochs) - min(observation_epochs))/365.25 # [yr]\n",
    "    orbit_fraction = 100*orbit_coverage/period\n",
    "\n",
    "    data_table = astropy.table.Table(\n",
    "        [observation_epochs, [1]*num_obs, ra, ra_err, dec, dec_err, [\"radec\"]*num_obs], \n",
    "        names=('epoch', 'object', 'quant1', 'quant1_err', 'quant2', 'quant2_err', 'quant_type')\n",
    "    )\n",
    "    \n",
    "    return data_table, orbit_fraction"
   ]
  },
  {
   "cell_type": "markdown",
   "metadata": {},
   "source": [
    "## Short Orbit Fraction"
   ]
  },
  {
   "cell_type": "markdown",
   "metadata": {},
   "source": [
    "Let's use the function above to generate some synthetic data with a short orbit fraction, and fit it with OFTI:"
   ]
  },
  {
   "cell_type": "code",
   "execution_count": 3,
   "metadata": {},
   "outputs": [
    {
     "name": "stdout",
     "output_type": "stream",
     "text": [
      "The orbit fraction is 2.0%\n"
     ]
    },
    {
     "data": {
      "image/png": "[encoded data removed]",
      "text/plain": [
       "<Figure size 432x288 with 1 Axes>"
      ]
     },
     "metadata": {},
     "output_type": "display_data"
    }
   ],
   "source": [
    "# generate data with default kwargs\n",
    "short_data_table, short_orbit_fraction = generate_synthetic_data()\n",
    "print('The orbit fraction is {}%'.format(np.round(short_orbit_fraction),1))\n",
    "\n",
    "# initialize orbitize `System` object\n",
    "short_system = system.System(1, short_data_table, mstar, plx)\n",
    "\n",
    "num2accept = 500 # run sampler until this many orbits are accepted"
   ]
  },
  {
   "cell_type": "code",
   "execution_count": 4,
   "metadata": {},
   "outputs": [
    {
     "name": "stdout",
     "output_type": "stream",
     "text": [
      "OFTI took 20.452625036239624 seconds to accept 500 orbits.\n"
     ]
    }
   ],
   "source": [
    "start_time = time.time()\n",
    "\n",
    "# set up OFTI `Sampler` object\n",
    "short_OFTI_sampler = sampler.OFTI(short_system)\n",
    "\n",
    "# perform OFTI fit\n",
    "short_OFTI_orbits = short_OFTI_sampler.run_sampler(num2accept)\n",
    "\n",
    "print(\"OFTI took {} seconds to accept {} orbits.\".format(time.time()-start_time, num2accept))"
   ]
  },
  {
   "cell_type": "code",
   "execution_count": 5,
   "metadata": {},
   "outputs": [
    {
     "name": "stderr",
     "output_type": "stream",
     "text": [
      "/Users/bluez3303/miniconda3/envs/python3.6/lib/python3.5/site-packages/orbitize/priors.py:156: RuntimeWarning: invalid value encountered in log\n",
      "  lnprob = -np.log((element_array*normalizer))\n",
      "/Users/bluez3303/miniconda3/envs/python3.6/lib/python3.5/site-packages/orbitize/priors.py:262: RuntimeWarning: invalid value encountered in log\n",
      "  lnprob = np.log(np.sin(element_array)/normalization)\n"
     ]
    },
    {
     "name": "stdout",
     "output_type": "stream",
     "text": [
      "Burn in complete\n",
      "Run complete\n",
      "MCMC took 5000 steps in 58.72521710395813 seconds.\n"
     ]
    }
   ],
   "source": [
    "start_time = time.time()\n",
    "\n",
    "# set up MCMC `Sampler` object\n",
    "num_walkers = 20\n",
    "short_MCMC_sampler = sampler.MCMC(short_system, num_temps=5, num_walkers=num_walkers)\n",
    "\n",
    "# perform MCMC fit\n",
    "num2accept_mcmc = 10*num2accept\n",
    "_ = short_MCMC_sampler.run_sampler(num2accept_mcmc, burn_steps=100)\n",
    "short_MCMC_orbits = short_MCMC_sampler.results.post\n",
    "\n",
    "print(\"MCMC took {} steps in {} seconds.\".format(num2accept_mcmc, time.time()-start_time))"
   ]
  },
  {
   "cell_type": "code",
   "execution_count": 6,
   "metadata": {},
   "outputs": [
    {
     "data": {
      "text/plain": [
       "<matplotlib.legend.Legend at 0xb12fe7588>"
      ]
     },
     "execution_count": 6,
     "metadata": {},
     "output_type": "execute_result"
    },
    {
     "data": {
      "image/png": "[encoded data removed]",
      "text/plain": [
       "<Figure size 432x288 with 1 Axes>"
      ]
     },
     "metadata": {},
     "output_type": "display_data"
    }
   ],
   "source": [
    "plt.hist(short_OFTI_orbits[:, short_system.param_idx['ecc1']], bins=40, density=True, alpha=.5, label='OFTI')\n",
    "plt.hist(short_MCMC_orbits[:, short_system.param_idx['ecc1']], bins=40, density=True, alpha=.5, label='MCMC')\n",
    "\n",
    "plt.xlabel('Eccentricity'); plt.ylabel('Prob.')\n",
    "plt.legend()"
   ]
  },
  {
   "cell_type": "markdown",
   "metadata": {},
   "source": [
    "These distributions are different because the MCMC chains have not converged, resulting in a \"lumpy\" MCMC distribution. I set up the calculation so that MCMC would return 10x as many orbits as OFTI, but even so, the OFTI distribution is a much better representation of the underlying PDF. \n",
    "\n",
    "If we run the MCMC algorithm for a greater number of steps (and/or increase the number of walkers and/or temperatures), the MCMC and OFTI distributions will become indistinguishable. **OFTI is NOT more correct than MCMC, but for this dataset, OFTI converges on the correct posterior faster than MCMC**. "
   ]
  },
  {
   "cell_type": "markdown",
   "metadata": {},
   "source": [
    "## Longer Orbit Fraction\n",
    "\n",
    "Let's now repeat this exercise with a longer orbit fraction. For this dataset, OFTI will have to run for several seconds just to accept one orbit, so we won't compare the resulting posteriors."
   ]
  },
  {
   "cell_type": "code",
   "execution_count": 7,
   "metadata": {},
   "outputs": [
    {
     "name": "stdout",
     "output_type": "stream",
     "text": [
      "The orbit fraction is 30.0%\n"
     ]
    },
    {
     "data": {
      "image/png": "[encoded data removed]",
      "text/plain": [
       "<Figure size 432x288 with 1 Axes>"
      ]
     },
     "metadata": {},
     "output_type": "display_data"
    }
   ],
   "source": [
    "# generate data\n",
    "long_data_table, long_orbit_fraction = generate_synthetic_data(sma=5., num_obs=12)\n",
    "print('The orbit fraction is {}%'.format(np.round(long_orbit_fraction),1))\n",
    "\n",
    "# initialize orbitize `System` object\n",
    "long_system = system.System(1, long_data_table, mstar, plx)\n",
    "num2accept = 500 # run sampler until this many orbits are accepted"
   ]
  },
  {
   "cell_type": "code",
   "execution_count": 8,
   "metadata": {},
   "outputs": [
    {
     "name": "stdout",
     "output_type": "stream",
     "text": [
      "1/1 orbits found\r",
      "OFTI took 11.8646559715271 seconds to accept 1 orbit.\n"
     ]
    }
   ],
   "source": [
    "start_time = time.time()\n",
    "\n",
    "# set up OFTI `Sampler` object\n",
    "long_OFTI_sampler = sampler.OFTI(long_system)\n",
    "\n",
    "# perform OFTI fit\n",
    "long_OFTI_orbits = long_OFTI_sampler.run_sampler(1)\n",
    "\n",
    "print(\"OFTI took {} seconds to accept 1 orbit.\".format(time.time()-start_time))"
   ]
  },
  {
   "cell_type": "code",
   "execution_count": 9,
   "metadata": {},
   "outputs": [
    {
     "name": "stderr",
     "output_type": "stream",
     "text": [
      "/Users/bluez3303/miniconda3/envs/python3.6/lib/python3.5/site-packages/orbitize/priors.py:156: RuntimeWarning: invalid value encountered in log\n",
      "  lnprob = -np.log((element_array*normalizer))\n",
      "/Users/bluez3303/miniconda3/envs/python3.6/lib/python3.5/site-packages/orbitize/priors.py:262: RuntimeWarning: invalid value encountered in log\n",
      "  lnprob = np.log(np.sin(element_array)/normalization)\n"
     ]
    },
    {
     "name": "stdout",
     "output_type": "stream",
     "text": [
      "Burn in complete\n",
      "Run complete\n",
      "MCMC took 500 steps in 41.37800693511963 seconds.\n"
     ]
    }
   ],
   "source": [
    "start_time = time.time()\n",
    "\n",
    "# set up MCMC `Sampler` object\n",
    "num_walkers = 20\n",
    "long_MCMC_sampler = sampler.MCMC(long_system, num_temps=10, num_walkers=num_walkers)\n",
    "\n",
    "# perform MCMC fit\n",
    "_ = long_MCMC_sampler.run_sampler(num2accept, burn_steps=100)\n",
    "long_MCMC_orbits = long_MCMC_sampler.results.post\n",
    "\n",
    "print(\"MCMC took {} steps in {} seconds.\".format(num2accept, time.time()-start_time))"
   ]
  },
  {
   "cell_type": "code",
   "execution_count": 10,
   "metadata": {},
   "outputs": [
    {
     "data": {
      "text/plain": [
       "Text(0,0.5,'Prob.')"
      ]
     },
     "execution_count": 10,
     "metadata": {},
     "output_type": "execute_result"
    },
    {
     "data": {
      "image/png": "[encoded data removed]",
      "text/plain": [
       "<Figure size 432x288 with 1 Axes>"
      ]
     },
     "metadata": {},
     "output_type": "display_data"
    }
   ],
   "source": [
    "plt.hist(long_MCMC_orbits[:, short_system.param_idx['ecc1']], bins=15, density=True)\n",
    "plt.xlabel('Eccentricity'); plt.ylabel('Prob.')"
   ]
  },
  {
   "cell_type": "markdown",
   "metadata": {},
   "source": [
    "It will take more steps for this MCMC to fully converge (see the [MCMC tutorial](https://orbitize.readthedocs.io/en/latest/tutorials/MCMC_tutorial.html) for more detailed guidelines), but you can imagine that MCMC will converge much faster than OFTI for this dataset."
   ]
  },
  {
   "cell_type": "markdown",
   "metadata": {},
   "source": [
    "## Closing Thoughts\n",
    "\n",
    "If you play around with the `num_obs`, `sma`, and `unc` keywords in the `generate_synthetic_data` function and repeat this exercise, you will notice that the OFTI acceptance rate and MCMC convergence rate depend on many variables, not just orbit fraction. **In truth, the Gaussianity of the posterior space determines how quickly an MCMC run will converge, and its similarity to the prior space determines how quickly an OFTI run will converge. In other words, the more constrained your posteriors are (relative to your priors), the quicker MCMC will converge, and the slower OFTI will run.**\n",
    "\n",
    "Orbit fraction is usually a great tracer of this \"amount of constraint,\" but it's good to understand why!\n",
    "\n",
    "**Summary**:\n",
    "- OFTI and MCMC produce the same posteriors, but often take differing amounts of time to converge on the correct solution.\n",
    "- OFTI is superior when your posteriors are similar to your priors, and MCMC is superior when your posteriors are highly constrained Gaussians."
   ]
  }
 ],
 "metadata": {
  "kernelspec": {
   "display_name": "Python [default]",
   "language": "python",
   "name": "python3"
  },
  "language_info": {
   "codemirror_mode": {
    "name": "ipython",
    "version": 3
   },
   "file_extension": ".py",
   "mimetype": "text/x-python",
   "name": "python",
   "nbconvert_exporter": "python",
   "pygments_lexer": "ipython3",
   "version": "3.5.5"
  }
 },
 "nbformat": 4,
 "nbformat_minor": 2
}
