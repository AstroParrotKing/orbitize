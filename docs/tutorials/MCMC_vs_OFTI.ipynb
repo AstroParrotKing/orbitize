{
 "cells": [
  {
   "cell_type": "markdown",
   "metadata": {},
   "source": [
    "# MCMC vs OFTI Comparison"
   ]
  },
  {
   "cell_type": "markdown",
   "metadata": {},
   "source": [
    "- purpose of tutorial: help folks understand differences between MCMC and OFTI enough to choose which algorithm to use\n",
    "- reference Blunt et al 2017, suggest trying to get basic understanding of how OFTI and MCMC work before starting tutorial.\n",
    "\n",
    "\n",
    "- generate synthetic data that's good for OFTI, do OFTI/MCMC fit\n",
    "    - show that MCMC is not converged\n",
    "    - explain why OFTI is fast in this regime\n",
    "- generate synthetic data that's good for MCMC, show that OFTI takes a while just to get 1 orbit, show that MCMC is well converged\n",
    "- generate data that's good for both, make Q-Q plot to prove they give the same result\n",
    "\n",
    "**NOTE**: \"convergence\" is defined differently for OFTI and for MCMC. For OFTI, the algorithm just needs to accept enough orbits for the results to be statistically significant. For MCMC, convergence is a bit more complicated, but at a high level an MCMC run has converged when all walkers have explored the entire parameter space. There are several metrics for estimating MCMC convergence (e.g. GR statistic, min Tz statistic), but we'll just go for a qualitative picture in this tutorial. "
   ]
  },
  {
   "cell_type": "code",
   "execution_count": 40,
   "metadata": {},
   "outputs": [],
   "source": [
    "import numpy as np\n",
    "import matplotlib.pyplot as plt\n",
    "import astropy.table\n",
    "\n",
    "from orbitize.kepler import calc_orbit\n",
    "from orbitize import system, sampler"
   ]
  },
  {
   "cell_type": "markdown",
   "metadata": {},
   "source": [
    "## Short Orbital Fraction"
   ]
  },
  {
   "cell_type": "markdown",
   "metadata": {},
   "source": [
    "When comparing OFTI and MCMC, I will use \"orbital fraction,\" or the fraction of the orbit spanned by the astrometric observations, as a figure of merit. In general, OFTI will converge faster than MCMC for small orbital fractions. \n",
    "\n",
    "Let's start by generating some synthetic data over a short orbital fraction. "
   ]
  },
  {
   "cell_type": "code",
   "execution_count": 64,
   "metadata": {},
   "outputs": [
    {
     "name": "stdout",
     "output_type": "stream",
     "text": [
      "This planet has a period of 150.0 yrs. Observations cover 3.0 years, so the orbital fraction is 2.01%.\n"
     ]
    },
    {
     "data": {
      "image/png": "[encoded data removed]",
      "text/plain": [
       "<Figure size 432x288 with 1 Axes>"
      ]
     },
     "metadata": {},
     "output_type": "display_data"
    }
   ],
   "source": [
    "# ground truth\n",
    "sma = 30 # semimajor axis [au]\n",
    "ecc = 0.5\n",
    "inc = np.pi/4 # inclination [radians]\n",
    "argp = 0.\n",
    "lan = 0.\n",
    "tau = 0.5\n",
    "mstar = 1.2 # stellar mass [M_sol]\n",
    "plx = 60.0 # parallax [mas]\n",
    "\n",
    "# calculate RA/Dec at three observation epochs\n",
    "observation_epochs = np.linspace(51550., 52650., 3) # 3 epochs between ~2000 and ~2003 [MJD]\n",
    "num_obs = len(observation_epochs)\n",
    "ra, dec, _ = calc_orbit(observation_epochs, sma, ecc, inc, argp, lan, tau, plx, mstar)\n",
    "\n",
    "# add Gaussian noise to simulate measurement\n",
    "radec_uncertainty = 10.0 # assumed uncertainty on RA & Dec [mas]\n",
    "ra += np.random.normal(scale=radec_uncertainty)\n",
    "dec += np.random.normal(scale=radec_uncertainty)\n",
    "\n",
    "ra_err = np.ones(num_obs)*radec_uncertainty\n",
    "dec_err = np.ones(num_obs)*radec_uncertainty\n",
    "\n",
    "# plot the simulated data, for good measure\n",
    "plt.errorbar(\n",
    "    ra, dec, yerr=ra_err, xerr=dec_err, linestyle=''\n",
    ")\n",
    "plt.xlabel('$\\\\Delta$ RA [mas]'); plt.ylabel('$\\\\Delta$ Dec [mas]')\n",
    "\n",
    "period = np.sqrt((sma**3)/mstar)\n",
    "orbit_coverage = (max(observation_epochs) - min(observation_epochs))/365.25 # [yr]\n",
    "print(\"This planet has a period of {} yrs. Observations cover {} years, so the orbital fraction is {}%.\".format(\n",
    "        np.round(period, 1),\n",
    "        np.round(orbit_coverage,1),\n",
    "        np.round(100*orbit_coverage/period,2)\n",
    "    )\n",
    ")"
   ]
  },
  {
   "cell_type": "markdown",
   "metadata": {},
   "source": [
    "The orbit fraction above is typical in direct imaging. Let's fit our synthetic data using OFTI:"
   ]
  },
  {
   "cell_type": "code",
   "execution_count": 65,
   "metadata": {},
   "outputs": [
    {
     "data": {
      "text/html": [
       "<i>Table length=3</i>\n",
       "<table id=\"table47782283192\" class=\"table-striped table-bordered table-condensed\">\n",
       "<thead><tr><th>epoch</th><th>object</th><th>quant1</th><th>quant1_err</th><th>quant2</th><th>quant2_err</th><th>quant_type</th></tr></thead>\n",
       "<thead><tr><th>float64</th><th>int64</th><th>float64</th><th>float64</th><th>float64</th><th>float64</th><th>str5</th></tr></thead>\n",
       "<tr><td>51550.0</td><td>1</td><td>2665.1187153772657</td><td>14.142135623730951</td><td>174.10457239626282</td><td>45.0</td><td>radec</td></tr>\n",
       "<tr><td>52100.0</td><td>1</td><td>2677.9618091960524</td><td>14.142135623730951</td><td>175.11174518491075</td><td>45.0</td><td>radec</td></tr>\n",
       "<tr><td>52650.0</td><td>1</td><td>2688.408020662702</td><td>14.142135623730951</td><td>176.11013867697545</td><td>45.0</td><td>radec</td></tr>\n",
       "</table>"
      ],
      "text/plain": [
       "<Table length=3>\n",
       " epoch  object       quant1       ...       quant2       quant2_err quant_type\n",
       "float64 int64       float64       ...      float64        float64      str5   \n",
       "------- ------ ------------------ ... ------------------ ---------- ----------\n",
       "51550.0      1 2665.1187153772657 ... 174.10457239626282       45.0      radec\n",
       "52100.0      1 2677.9618091960524 ... 175.11174518491075       45.0      radec\n",
       "52650.0      1  2688.408020662702 ... 176.11013867697545       45.0      radec"
      ]
     },
     "execution_count": 65,
     "metadata": {},
     "output_type": "execute_result"
    }
   ],
   "source": [
    "# set up orbitize objects\n",
    "\n",
    "data_table = astropy.table.Table(\n",
    "    [observation_epochs, [1]*num_obs, ra, ra_err, dec, dec_err, [\"radec\"]*num_obs], \n",
    "    names=('epoch', 'object', 'quant1', 'quant1_err', 'quant2', 'quant2_err', 'quant_type')\n",
    ")\n",
    "\n",
    "my_system = system.System(1, data_table, mstar, plx)\n",
    "my_sampler = sampler.OFTI(my_system)\n",
    "\n",
    "# print out the data table, for the lolz\n",
    "data_table"
   ]
  },
  {
   "cell_type": "code",
   "execution_count": 67,
   "metadata": {},
   "outputs": [
    {
     "name": "stdout",
     "output_type": "stream",
     "text": [
      "1000/1000 orbits found\r"
     ]
    }
   ],
   "source": [
    "# perform OFTI fit\n",
    "\n",
    "num2accept = int(1e3) # run OFTI until this many orbits are accepted\n",
    "\n",
    "_ = my_sampler.run_sampler(num2accept)"
   ]
  },
  {
   "cell_type": "code",
   "execution_count": null,
   "metadata": {},
   "outputs": [],
   "source": [
    "- make above into "
   ]
  }
 ],
 "metadata": {
  "kernelspec": {
   "display_name": "Python [default]",
   "language": "python",
   "name": "python3"
  },
  "language_info": {
   "codemirror_mode": {
    "name": "ipython",
    "version": 3
   },
   "file_extension": ".py",
   "mimetype": "text/x-python",
   "name": "python",
   "nbconvert_exporter": "python",
   "pygments_lexer": "ipython3",
   "version": "3.5.5"
  }
 },
 "nbformat": 4,
 "nbformat_minor": 2
}
