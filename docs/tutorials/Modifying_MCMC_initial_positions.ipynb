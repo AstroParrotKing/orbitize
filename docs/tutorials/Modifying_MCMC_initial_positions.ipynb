{
 "cells": [
  {
   "cell_type": "markdown",
   "metadata": {},
   "source": [
    "# Modifying MCMC Initial Positions\n",
    "\n",
    "by Henry Ngo (2019)\n",
    "\n",
    "When you set up the MCMC Sampler, the initial position of your walkers are randomly determined. Specifically, they are uniformly distributed in your Prior phase space. This tutorial will show you how to change this default behaviour so that the walkers can begin at locations you specify. For instance, if you have an initial guess for the best fitting orbit and want to use MCMC to explore posterior space around this peak, you may want to start your walkers at positions centered around this peak and distributed according to an N-dimensional Gaussian distribution. \n",
    "\n",
    "Note: This tutorial is meant to be read after reading the [MCMC Introduction tutorial](https://orbitize.readthedocs.io/en/latest/tutorials/MCMC_tutorial.html). If you are wondering what walkers are, you should start there!\n",
    "\n",
    "The `Driver` class is the main way you might interact with `orbitize!` as it automatically reads your input, creates all the `orbitize!` objects needed to do your calculation, and defaults to some commonly used parameters or settings. However, sometimes you want to work directly with the underlying API to do more advanced tasks such as changing the MCMC walkers' initial positions, or [modifying the priors](https://orbitize.readthedocs.io/en/latest/tutorials/Modifying_Priors.html).\n",
    "\n",
    "This tutorial walks you through how to do that. \n",
    "\n",
    "**Goals of this tutorial**:\n",
    "- Learn to modify the MCMC `Sampler` object\n",
    "- Learn about the structure of the `orbitize` code base"
   ]
  },
  {
   "cell_type": "markdown",
   "metadata": {},
   "source": [
    "## Import modules"
   ]
  },
  {
   "cell_type": "code",
   "execution_count": 2,
   "metadata": {},
   "outputs": [],
   "source": [
    "import numpy as np\n",
    "\n",
    "import orbitize\n",
    "from orbitize import driver\n",
    "import multiprocessing as mp"
   ]
  },
  {
   "cell_type": "markdown",
   "metadata": {},
   "source": [
    "## Create Driver object\n",
    "\n",
    "First, let's begin as usual and create our `Driver` object, as in the MCMC Introduction tutorial."
   ]
  },
  {
   "cell_type": "code",
   "execution_count": 4,
   "metadata": {},
   "outputs": [],
   "source": [
    "filename = \"{}/GJ504.csv\".format(orbitize.DATADIR)\n",
    "\n",
    "# system parameters\n",
    "num_secondary_bodies = 1\n",
    "system_mass = 1.75 # [Msol]\n",
    "plx = 51.44 # [mas]\n",
    "mass_err = 0.05 # [Msol]\n",
    "plx_err = 0.12 # [mas]\n",
    "\n",
    "# MCMC parameters\n",
    "num_temps = 5\n",
    "num_walkers = 30\n",
    "num_threads = mp.cpu_count() # or a different number if you prefer\n",
    "\n",
    "\n",
    "my_driver = driver.Driver(\n",
    "    filename, 'MCMC', num_secondary_bodies, system_mass, plx, mass_err=mass_err, plx_err=plx_err,\n",
    "    mcmc_kwargs={'num_temps': num_temps, 'num_walkers': num_walkers, 'num_threads': num_threads}\n",
    ")"
   ]
  },
  {
   "cell_type": "markdown",
   "metadata": {},
   "source": [
    "## Access the `Sampler` object to view the walker positions\n",
    "\n",
    "As mentioned in the introduction, the `Driver` class creates the objects needed for the orbit fit. At the time of this writing, it creates a `Sampler` object which you can access with the `.sampler` attribute and a `System` object which you can access with the `.system` attribute.\n",
    "\n",
    "The `Sampler` object contains all of the information used by the orbit sampling algorithm (OFTI or MCMC) to fit the orbit and determine the posteriors. The `System` object contains information about the astrophysical system itself (stellar and companion parameters, the input data, etc.). \n",
    "\n",
    "To see all of the attributes of the driver object, you can use `dir()`."
   ]
  },
  {
   "cell_type": "code",
   "execution_count": 18,
   "metadata": {},
   "outputs": [
    {
     "data": {
      "text/plain": [
       "['__class__',\n",
       " '__delattr__',\n",
       " '__dict__',\n",
       " '__dir__',\n",
       " '__doc__',\n",
       " '__eq__',\n",
       " '__format__',\n",
       " '__ge__',\n",
       " '__getattribute__',\n",
       " '__gt__',\n",
       " '__hash__',\n",
       " '__init__',\n",
       " '__init_subclass__',\n",
       " '__le__',\n",
       " '__lt__',\n",
       " '__module__',\n",
       " '__ne__',\n",
       " '__new__',\n",
       " '__reduce__',\n",
       " '__reduce_ex__',\n",
       " '__repr__',\n",
       " '__setattr__',\n",
       " '__sizeof__',\n",
       " '__str__',\n",
       " '__subclasshook__',\n",
       " '__weakref__',\n",
       " 'sampler',\n",
       " 'system']"
      ]
     },
     "execution_count": 18,
     "metadata": {},
     "output_type": "execute_result"
    }
   ],
   "source": [
    "dir(my_driver)"
   ]
  },
  {
   "cell_type": "markdown",
   "metadata": {},
   "source": [
    "This returns many other functions too, but you see `sampler` and `system` at the bottom. Don't forget that in Jupyter notebooks, you can use `my_driver?` to get the docstring for its class (i.e. the `Driver` class) and `my_driver??` to get the full source code of that class. You can also get this information in the API documentation.\n",
    "\n",
    "Now, let's list the attributes of the `my_driver.sampler` attribute."
   ]
  },
  {
   "cell_type": "code",
   "execution_count": 19,
   "metadata": {},
   "outputs": [
    {
     "data": {
      "text/plain": [
       "['__abstractmethods__',\n",
       " '__class__',\n",
       " '__delattr__',\n",
       " '__dict__',\n",
       " '__dir__',\n",
       " '__doc__',\n",
       " '__eq__',\n",
       " '__format__',\n",
       " '__ge__',\n",
       " '__getattribute__',\n",
       " '__gt__',\n",
       " '__hash__',\n",
       " '__init__',\n",
       " '__init_subclass__',\n",
       " '__le__',\n",
       " '__lt__',\n",
       " '__module__',\n",
       " '__ne__',\n",
       " '__new__',\n",
       " '__reduce__',\n",
       " '__reduce_ex__',\n",
       " '__repr__',\n",
       " '__setattr__',\n",
       " '__sizeof__',\n",
       " '__slots__',\n",
       " '__str__',\n",
       " '__subclasshook__',\n",
       " '__weakref__',\n",
       " '_abc_impl',\n",
       " '_fill_in_fixed_params',\n",
       " '_logl',\n",
       " 'curr_pos',\n",
       " 'fixed_params',\n",
       " 'lnlike',\n",
       " 'num_params',\n",
       " 'num_temps',\n",
       " 'num_threads',\n",
       " 'num_walkers',\n",
       " 'priors',\n",
       " 'results',\n",
       " 'run_sampler',\n",
       " 'system',\n",
       " 'use_pt']"
      ]
     },
     "execution_count": 19,
     "metadata": {},
     "output_type": "execute_result"
    }
   ],
   "source": [
    "dir(my_driver.sampler)"
   ]
  },
  {
   "cell_type": "markdown",
   "metadata": {},
   "source": [
    "Again, you can use the `?` and `??` features as well as the API documentation to find out more. Here we see an attribute `curr_pos` which contains the current position of all the walkers for the MCMC sampler. These positions were generated upon initialization of the `Sampler` object, which happened as part of the initialization of the `Driver` object."
   ]
  },
  {
   "cell_type": "markdown",
   "metadata": {},
   "source": [
    "### Examine `my_driver.sampler.curr_pos`\n",
    "\n",
    "`curr_pos` is an array and has shape (`n_temps`, `n_walkers`, `n_params`) for the parallel-tempered MCMC sampler and shape (`n_walkers`, `n_params`) for the affine-invariant ensemble sampler. "
   ]
  },
  {
   "cell_type": "code",
   "execution_count": 28,
   "metadata": {},
   "outputs": [
    {
     "data": {
      "text/plain": [
       "(5, 30, 8)"
      ]
     },
     "execution_count": 28,
     "metadata": {},
     "output_type": "execute_result"
    }
   ],
   "source": [
    "my_driver.sampler.curr_pos.shape # Here we are using the parallel-tempered MCMC sampler"
   ]
  },
  {
   "cell_type": "markdown",
   "metadata": {},
   "source": [
    "Basically, this is the same shape as the output of the Sampler. Let's look at the start position of the first five walkers at the lowest temperature, to get a better sense of what the strucutre is like."
   ]
  },
  {
   "cell_type": "code",
   "execution_count": 29,
   "metadata": {},
   "outputs": [
    {
     "name": "stdout",
     "output_type": "stream",
     "text": [
      "[[ 0.24504151  0.63705443  1.77924184  3.18908565  3.22058099  0.33553179\n",
      "  51.39646203  1.71189669]\n",
      " [ 5.91511047  0.22330853  1.60508749  0.63809505  1.5515721   0.8469325\n",
      "  51.56434961  1.82177098]\n",
      " [ 0.39371766  0.69909325  1.34413767  4.64406445  5.67560083  0.31355571\n",
      "  51.44936553  1.71900705]\n",
      " [14.77243131  0.67288329  2.91407727  2.51512375  4.7190362   0.51339391\n",
      "  51.52403468  1.73689092]\n",
      " [ 4.56868726  0.22396506  1.44092969  2.0759432   1.84652498  0.31772185\n",
      "  51.36397433  1.72585335]]\n"
     ]
    }
   ],
   "source": [
    "print(my_driver.sampler.curr_pos[0,0:5,:])"
   ]
  },
  {
   "cell_type": "markdown",
   "metadata": {},
   "source": [
    "## Replace `curr_pos` with your own initial positions for walkers\n",
    "\n",
    "When the sampler is run with the `sampler.run_sampler()` method, it will start the walkers at the `curr_pos` values, run the MCMC forward for the given number of steps, and then update `curr_pos` to reflect where the walkers ended up. The next time `run_sampler()` is called, it does the same thing again.\n",
    "\n",
    "Here, we have just created the sampler but have not run it yet. So, if we update `curr_pos` with our own custom start locations, when we run the sampler, it will begin at our custom start locations instead."
   ]
  },
  {
   "cell_type": "markdown",
   "metadata": {},
   "source": [
    "### Generate your own initial positions\n",
    "\n",
    "There are many ways to create your own walker start distribution and what you want to do will depend on your science question and prior knowledge. Here, let's assume we know a possible best fit value and our uncertainty in that fit. So, we will try to create a distribution of walkers that are centered on the best fit value and distributed normallly with the 1-sigma in each dimension equal to the uncertainty on that best fit value."
   ]
  },
  {
   "cell_type": "markdown",
   "metadata": {},
   "source": [
    "First, let's define the best fit value and the spread. As a reminder, the order of the parameters in the array is: semimajor axis, eccentricity, inclination, argument of periastron, position angle of nodes, epoch of periastron passage, parallax and total mass. If there are more than one body, the first six elements are repeated for the second and subsequent body right after the first body so that parallax and total mass is always the last two elements. You can check the indices with this dict in the `system` object."
   ]
  },
  {
   "cell_type": "code",
   "execution_count": 39,
   "metadata": {},
   "outputs": [
    {
     "name": "stdout",
     "output_type": "stream",
     "text": [
      "{'sma1': 0, 'ecc1': 1, 'inc1': 2, 'aop1': 3, 'pan1': 4, 'epp1': 5, 'plx': 6, 'mtot': 7}\n"
     ]
    }
   ],
   "source": [
    "print(my_driver.system.param_idx)"
   ]
  },
  {
   "cell_type": "code",
   "execution_count": 43,
   "metadata": {},
   "outputs": [],
   "source": [
    "# Set centre and spread of the walker distribution\n",
    "# Values from Table 1 in Blunt et al. 2017, AJ, 153, 229\n",
    "sma_cen = 44.48\n",
    "sma_sig = 15.0\n",
    "ecc_cen = 0.0151\n",
    "ecc_sig = 0.175\n",
    "inc_cen = 131.7\n",
    "inc_sig = 16.0\n",
    "aop_cen = 91.7\n",
    "aop_sig = 60.0\n",
    "pan_cen = 133.7\n",
    "pan_sig = 50.0\n",
    "epp_cen = 2228.11\n",
    "epp_sig = 121.0\n",
    "# Note : parallax and system mass already defined above (plx, plx_err, system_mass, mass_err)\n",
    "walker_centres = np.array([sma_cen,ecc_cen,inc_cen,aop_cen,pan_cen,epp_cen,plx,system_mass])\n",
    "walker_1sigmas = np.array([sma_sig,ecc_sig,inc_sig,aop_sig,pan_sig,epp_sig,plx_err,mass_err])"
   ]
  },
  {
   "cell_type": "markdown",
   "metadata": {},
   "source": [
    "We can use `numpy.random.standard_normal` "
   ]
  },
  {
   "cell_type": "code",
   "execution_count": 46,
   "metadata": {},
   "outputs": [],
   "source": [
    "curr_pos_shape = my_driver.sampler.curr_pos.shape # Get shape of walker positions\n",
    "# Draw from multi-variate normal distribution to generate new walker positions\n",
    "new_pos = np.random.standard_normal(curr_pos_shape)*walker_1sigmas + walker_centres"
   ]
  },
  {
   "cell_type": "code",
   "execution_count": null,
   "metadata": {},
   "outputs": [],
   "source": [
    "# add 180 to Omega"
   ]
  }
 ],
 "metadata": {
  "kernelspec": {
   "display_name": "Python 3",
   "language": "python",
   "name": "python3"
  },
  "language_info": {
   "codemirror_mode": {
    "name": "ipython",
    "version": 3
   },
   "file_extension": ".py",
   "mimetype": "text/x-python",
   "name": "python",
   "nbconvert_exporter": "python",
   "pygments_lexer": "ipython3",
   "version": "3.7.1"
  }
 },
 "nbformat": 4,
 "nbformat_minor": 2
}
