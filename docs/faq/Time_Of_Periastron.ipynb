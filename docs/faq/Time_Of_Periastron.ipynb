{
 "cells": [
  {
   "cell_type": "code",
   "execution_count": 1,
   "metadata": {},
   "outputs": [
    {
     "name": "stdout",
     "output_type": "stream",
     "text": [
      "60649.50097715886\n",
      "0.2000000000000002\n",
      "6634.471662393138\n"
     ]
    }
   ],
   "source": [
    "import numpy as np\n",
    "import orbitize.basis\n",
    "\n",
    "# How to get orbital period in the orbitize! standard basis\n",
    "sma = 9 # au, semi-major axis\n",
    "mtot = 1.2 # Solar masses, total mass\n",
    "period = np.sqrt(sma**3/mtot) # years, period\n",
    "\n",
    "tau = 0.2\n",
    "tau_ref_epoch = 58849\n",
    "\n",
    "# convert tau to tp\n",
    "tp = orbitize.basis.tau_to_tp(tau, tau_ref_epoch, period)\n",
    "\n",
    "print(tp)\n",
    "\n",
    "# convert tp back to tau\n",
    "tau2 = orbitize.basis.tp_to_tau(tp, tau_ref_epoch, period)\n",
    "\n",
    "print(tau2)\n",
    "\n",
    "# convert tau to tp, but pick the first tp after MJD = 0\n",
    "tp_new = orbitize.basis.tau_to_tp(tau, tau_ref_epoch, period, after_date=0)\n",
    "\n",
    "print(tp_new)"
   ]
  },
  {
   "cell_type": "code",
   "execution_count": 2,
   "metadata": {},
   "outputs": [
    {
     "name": "stdout",
     "output_type": "stream",
     "text": [
      "5.829874251150844\n",
      "1.3951473992034527e-15\n"
     ]
    }
   ],
   "source": [
    "# Use the orbit defined in the previous example\n",
    "\n",
    "t = 60000 # time in MJD when we want to know the M of the particle\n",
    "\n",
    "M = orbitize.basis.tau_to_manom(t, sma, mtot, tau, tau_ref_epoch)\n",
    "\n",
    "print(M)\n",
    "\n",
    "# now compute M for periastron\n",
    "M_peri = orbitize.basis.tau_to_manom(tp, sma, mtot, tau, tau_ref_epoch)\n",
    "\n",
    "print(M_peri)"
   ]
  }
 ],
 "metadata": {
  "kernelspec": {
   "display_name": "Python 3",
   "language": "python",
   "name": "python3"
  },
  "language_info": {
   "codemirror_mode": {
    "name": "ipython",
    "version": 3
   },
   "file_extension": ".py",
   "mimetype": "text/x-python",
   "name": "python",
   "nbconvert_exporter": "python",
   "pygments_lexer": "ipython3",
   "version": "3.6.10"
  }
 },
 "nbformat": 4,
 "nbformat_minor": 2
}