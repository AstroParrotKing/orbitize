{
 "cells": [
  {
   "cell_type": "markdown",
   "metadata": {},
   "source": [
    "# Nested Sampler Introduction"
   ]
  },
  {
   "cell_type": "markdown",
   "metadata": {},
   "source": [
    "***Mention orbit fraction and amount of constraint as motivation for having nested sampling as an option once tests are done and we have more information***\n",
    "\n",
    "Here, we will explain how to sample an orbit posterior using nested sampling from the dynesty package. An advantage of nested sampling is that it computes the evidence and posterior at the same time. To compute the evidence, Dynesty first uses live points to make iso-likelihood contours with probability greater than that of the previous contour. It then takes the integral of these contour shells and calculates prior “volumes” of these shells. As each contour is made, the live point with the least probability is removed (it “dies”), and it is replaced with a new live point sampled from the prior, which must have a higher probability. Dynesty then uses these “dead” points to approximate the evidence integral by weighting each point and summing them. To estimate the posterior, dynesty then uses the calculated “dead” point weighting and evidence to get its importance weight, or the probability of the parameter set.\n"
   ]
  },
  {
   "cell_type": "markdown",
   "metadata": {},
   "source": [
    "# Read in Data and Set up Sampler"
   ]
  },
  {
   "cell_type": "markdown",
   "metadata": {},
   "source": [
    "desscription here"
   ]
  },
  {
   "cell_type": "code",
   "execution_count": 2,
   "metadata": {},
   "outputs": [],
   "source": [
    "import orbitize\n",
    "from orbitize import read_input, system, priors, sampler\n",
    "import matplotlib.pyplot as plt\n",
    "\n",
    "\n",
    "data_table = read_input.read_file('{}/GJ504.csv'.format(orbitize.DATADIR))\n",
    "\n",
    "# number of secondary bodies in system\n",
    "num_planets = 1\n",
    "# total mass & error [msol]\n",
    "total_mass = 1.22\n",
    "mass_err = 0.08\n",
    "# parallax & error[mas]\n",
    "plx = 56.95\n",
    "plx_err = 0\n",
    "sys = system.System(\n",
    "    num_planets, data_table, total_mass,\n",
    "    plx, mass_err=mass_err, plx_err=plx_err\n",
    ")\n",
    "# alias for convenience\n",
    "lab = sys.param_idx\n",
    "\n",
    "mu = 0.2\n",
    "sigma = 0.05\n",
    "\n",
    "sys.sys_priors[lab['ecc1']] = priors.GaussianPrior(mu, sigma)\n",
    "sys.sys_priors[lab['inc1']] = 2.5"
   ]
  },
  {
   "cell_type": "markdown",
   "metadata": {},
   "source": [
    "# Running the Dynesty Sampler"
   ]
  },
  {
   "cell_type": "markdown",
   "metadata": {},
   "source": [
    "description"
   ]
  },
  {
   "cell_type": "code",
   "execution_count": 1,
   "metadata": {},
   "outputs": [
    {
     "ename": "NameError",
     "evalue": "name 'sampler' is not defined",
     "output_type": "error",
     "traceback": [
      "\u001b[0;31m---------------------------------------------------------------------------\u001b[0m",
      "\u001b[0;31mNameError\u001b[0m                                 Traceback (most recent call last)",
      "Cell \u001b[0;32mIn[1], line 1\u001b[0m\n\u001b[0;32m----> 1\u001b[0m nested_sampler \u001b[38;5;241m=\u001b[39m \u001b[43msampler\u001b[49m\u001b[38;5;241m.\u001b[39mNestedSampler(sys)\n\u001b[1;32m      3\u001b[0m \u001b[38;5;66;03m# number of orbits to accept\u001b[39;00m\n\u001b[1;32m      4\u001b[0m n_orbs \u001b[38;5;241m=\u001b[39m \u001b[38;5;241m500\u001b[39m\n",
      "\u001b[0;31mNameError\u001b[0m: name 'sampler' is not defined"
     ]
    }
   ],
   "source": [
    "nested_sampler = sampler.NestedSampler(sys)\n",
    "\n",
    "# number of orbits to accept\n",
    "n_orbs = 500\n",
    "\n",
    "_ = nested_sampler.run_sampler(n_orbs, static = False, bound = 'single')\n",
    "nested_sampler.results.save_results('test2.hdf5')"
   ]
  },
  {
   "cell_type": "markdown",
   "metadata": {},
   "source": [
    "# Plotting"
   ]
  },
  {
   "cell_type": "markdown",
   "metadata": {},
   "source": [
    "description"
   ]
  },
  {
   "cell_type": "code",
   "execution_count": null,
   "metadata": {},
   "outputs": [],
   "source": [
    "# code"
   ]
  },
  {
   "cell_type": "markdown",
   "metadata": {},
   "source": [
    "# Saving Results"
   ]
  },
  {
   "cell_type": "code",
   "execution_count": null,
   "metadata": {},
   "outputs": [],
   "source": [
    "# code"
   ]
  }
 ],
 "metadata": {
  "interpreter": {
   "hash": "31f2aee4e71d21fbe5cf8b01ff0e069b9275f58929596ceb00d14d90e3e16cd6"
  },
  "kernelspec": {
   "display_name": "Python 3.9.6 64-bit",
   "language": "python",
   "name": "python3"
  },
  "language_info": {
   "codemirror_mode": {
    "name": "ipython",
    "version": 3
   },
   "file_extension": ".py",
   "mimetype": "text/x-python",
   "name": "python",
   "nbconvert_exporter": "python",
   "pygments_lexer": "ipython3",
   "version": "3.9.12"
  },
  "orig_nbformat": 4
 },
 "nbformat": 4,
 "nbformat_minor": 2
}
